{
 "cells": [
  {
   "cell_type": "markdown",
   "id": "capable-storage",
   "metadata": {},
   "source": [
    "# Index\n",
    "1. Load libraries & Setting\n",
    "2. CIFAR10 dataset downlad\n",
    "3. Model construction (___G___, ___D___)\n",
    "4. Model training"
   ]
  },
  {
   "cell_type": "markdown",
   "id": "representative-leeds",
   "metadata": {},
   "source": [
    "## Load libraries & Setting"
   ]
  },
  {
   "cell_type": "code",
   "execution_count": 1,
   "id": "fitting-plain",
   "metadata": {
    "execution": {
     "iopub.execute_input": "2021-08-22T08:23:44.362771Z",
     "iopub.status.busy": "2021-08-22T08:23:44.362644Z",
     "iopub.status.idle": "2021-08-22T08:23:45.120874Z",
     "shell.execute_reply": "2021-08-22T08:23:45.120058Z",
     "shell.execute_reply.started": "2021-08-22T08:23:44.362753Z"
    },
    "tags": []
   },
   "outputs": [],
   "source": [
    "import os\n",
    "import random\n",
    "import numpy as np\n",
    "import pandas as pd\n",
    "import matplotlib\n",
    "import matplotlib.pyplot as plt\n",
    "\n",
    "import torch\n",
    "import torch.nn as nn\n",
    "import torch.optim as optim\n",
    "import torch.nn.functional as F\n",
    "from torch.autograd import Variable\n",
    "\n",
    "import torchvision\n",
    "from torchvision import datasets, transforms"
   ]
  },
  {
   "cell_type": "code",
   "execution_count": 2,
   "id": "stretch-multimedia",
   "metadata": {
    "execution": {
     "iopub.execute_input": "2021-08-22T08:23:45.122022Z",
     "iopub.status.busy": "2021-08-22T08:23:45.121850Z",
     "iopub.status.idle": "2021-08-22T08:23:45.129489Z",
     "shell.execute_reply": "2021-08-22T08:23:45.128794Z",
     "shell.execute_reply.started": "2021-08-22T08:23:45.122002Z"
    },
    "tags": []
   },
   "outputs": [
    {
     "data": {
      "text/plain": [
       "<torch._C.Generator at 0x7f1c87217110>"
      ]
     },
     "execution_count": 2,
     "metadata": {},
     "output_type": "execute_result"
    }
   ],
   "source": [
    "# Randomness control for Reproducibility\n",
    "seed = 123\n",
    "\n",
    "random.seed(seed)\n",
    "np.random.seed(seed)\n",
    "torch.cuda.manual_seed(seed)\n",
    "torch.cuda.manual_seed_all(seed) #if use multi-GPU\n",
    "torch.manual_seed(seed)"
   ]
  },
  {
   "cell_type": "code",
   "execution_count": 3,
   "id": "native-stephen",
   "metadata": {
    "execution": {
     "iopub.execute_input": "2021-08-22T08:23:45.130317Z",
     "iopub.status.busy": "2021-08-22T08:23:45.130188Z",
     "iopub.status.idle": "2021-08-22T08:23:46.902405Z",
     "shell.execute_reply": "2021-08-22T08:23:46.900793Z",
     "shell.execute_reply.started": "2021-08-22T08:23:45.130302Z"
    },
    "tags": []
   },
   "outputs": [
    {
     "name": "stdout",
     "output_type": "stream",
     "text": [
      "cuda\n"
     ]
    }
   ],
   "source": [
    "# device setting\n",
    "device = torch.device('cuda' if torch.cuda.is_available() else 'cpu')\n",
    "print(device)"
   ]
  },
  {
   "cell_type": "markdown",
   "id": "preliminary-battlefield",
   "metadata": {},
   "source": [
    "## CIFAR10 dataset downlad\n",
    "* batch_size : 배치 사이즈 설정"
   ]
  },
  {
   "cell_type": "code",
   "execution_count": 4,
   "id": "bacterial-cricket",
   "metadata": {
    "execution": {
     "iopub.execute_input": "2021-08-22T08:23:46.905161Z",
     "iopub.status.busy": "2021-08-22T08:23:46.904647Z",
     "iopub.status.idle": "2021-08-22T08:23:47.811320Z",
     "shell.execute_reply": "2021-08-22T08:23:47.810208Z",
     "shell.execute_reply.started": "2021-08-22T08:23:46.905098Z"
    },
    "tags": []
   },
   "outputs": [
    {
     "name": "stdout",
     "output_type": "stream",
     "text": [
      "Files already downloaded and verified\n"
     ]
    }
   ],
   "source": [
    "batch_size = 128\n",
    "\n",
    "# CIFAR10 dataset\n",
    "transforms_cifar = transforms.Compose([transforms.ToTensor(),\n",
    "                                                transforms.Normalize(mean=(0.5, 0.5, 0.5), std=(0.5, 0.5, 0.5))])\n",
    "\n",
    "train_loader_cifar = torch.utils.data.DataLoader(datasets.CIFAR10('data', train=True, download=True, transform=transforms_cifar),\n",
    "                                           batch_size=batch_size, shuffle=True)"
   ]
  },
  {
   "cell_type": "code",
   "execution_count": 5,
   "id": "continuing-copying",
   "metadata": {
    "execution": {
     "iopub.execute_input": "2021-08-22T08:23:47.813654Z",
     "iopub.status.busy": "2021-08-22T08:23:47.813476Z",
     "iopub.status.idle": "2021-08-22T08:23:47.877746Z",
     "shell.execute_reply": "2021-08-22T08:23:47.876810Z",
     "shell.execute_reply.started": "2021-08-22T08:23:47.813634Z"
    },
    "tags": []
   },
   "outputs": [
    {
     "name": "stdout",
     "output_type": "stream",
     "text": [
      "torch.Size([128, 3, 32, 32])\n",
      "torch.Size([128])\n"
     ]
    }
   ],
   "source": [
    "image, label=iter(train_loader_cifar).next()\n",
    "\n",
    "print(image.shape)\n",
    "print(label.shape)"
   ]
  },
  {
   "cell_type": "code",
   "execution_count": 6,
   "id": "settled-engine",
   "metadata": {
    "execution": {
     "iopub.execute_input": "2021-08-22T08:23:47.879074Z",
     "iopub.status.busy": "2021-08-22T08:23:47.878927Z",
     "iopub.status.idle": "2021-08-22T08:23:47.883124Z",
     "shell.execute_reply": "2021-08-22T08:23:47.882339Z",
     "shell.execute_reply.started": "2021-08-22T08:23:47.879057Z"
    },
    "tags": []
   },
   "outputs": [],
   "source": [
    "classes = ('plane', 'car', 'bird', 'cat', 'deer', 'dog', 'frog', 'horse', 'ship', 'truck')\n",
    "title = [classes[label[j]] for j in range(8)]"
   ]
  },
  {
   "cell_type": "code",
   "execution_count": 7,
   "id": "rotary-optics",
   "metadata": {
    "execution": {
     "iopub.execute_input": "2021-08-22T08:23:47.884045Z",
     "iopub.status.busy": "2021-08-22T08:23:47.883896Z",
     "iopub.status.idle": "2021-08-22T08:23:48.002284Z",
     "shell.execute_reply": "2021-08-22T08:23:48.001425Z",
     "shell.execute_reply.started": "2021-08-22T08:23:47.884028Z"
    },
    "tags": []
   },
   "outputs": [
    {
     "data": {
      "image/png": "[encoded data removed]",
      "text/plain": [
       "<Figure size 1152x144 with 1 Axes>"
      ]
     },
     "metadata": {
      "needs_background": "light"
     },
     "output_type": "display_data"
    }
   ],
   "source": [
    "plt.figure(figsize= (16,2))\n",
    "plt.imshow(torchvision.utils.make_grid(image[:8], normalize = True).permute(1,2,0))\n",
    "plt.title(title)\n",
    "plt.show()"
   ]
  },
  {
   "cell_type": "markdown",
   "id": "pacific-astronomy",
   "metadata": {},
   "source": [
    "## Model construction (___G___, ___D___)"
   ]
  },
  {
   "cell_type": "code",
   "execution_count": 8,
   "id": "appropriate-smart",
   "metadata": {
    "execution": {
     "iopub.execute_input": "2021-08-22T08:23:48.003228Z",
     "iopub.status.busy": "2021-08-22T08:23:48.003049Z",
     "iopub.status.idle": "2021-08-22T08:23:48.012583Z",
     "shell.execute_reply": "2021-08-22T08:23:48.011767Z",
     "shell.execute_reply.started": "2021-08-22T08:23:48.003209Z"
    },
    "tags": []
   },
   "outputs": [],
   "source": [
    "class generator(nn.Module):\n",
    "    def __init__(self, nc, nz, ngf):\n",
    "        super(generator, self).__init__()\n",
    "        self.network = nn.Sequential(\n",
    "          nn.ConvTranspose2d(nz, ngf*4, 4, 1, 0, bias=False),\n",
    "          nn.BatchNorm2d(ngf*4),\n",
    "          nn.ReLU(True),\n",
    "  \n",
    "          nn.ConvTranspose2d(ngf*4, ngf*2, 4, 2, 1, bias=False), # if use mnist -> kernel_size = 3 \n",
    "          nn.BatchNorm2d(ngf*2),\n",
    "          nn.ReLU(True),\n",
    "  \n",
    "          nn.ConvTranspose2d(ngf*2, ngf, 4, 2, 1, bias=False),\n",
    "          nn.BatchNorm2d(ngf),\n",
    "          nn.ReLU(True),\n",
    "  \n",
    "          nn.ConvTranspose2d(ngf, nc, 4, 2, 1, bias=False),\n",
    "          nn.Tanh()\n",
    "      )\n",
    "  \n",
    "    def forward(self, input):\n",
    "        output = self.network(input)\n",
    "        return output\n",
    "\n",
    "class discriminator(nn.Module):\n",
    "    def __init__(self, nc, ndf):\n",
    "        super(discriminator, self).__init__()\n",
    "        self.network = nn.Sequential(\n",
    "                \n",
    "                nn.Conv2d(nc, ndf, 4, 2, 1, bias=False),\n",
    "                nn.LeakyReLU(0.2, inplace=True),\n",
    "                \n",
    "                nn.Conv2d(ndf, ndf * 2, 4, 2, 1, bias=False),\n",
    "                nn.BatchNorm2d(ndf * 2),\n",
    "                nn.LeakyReLU(0.2, inplace=True),\n",
    "                \n",
    "                nn.Conv2d(ndf * 2, ndf * 4, 4, 2, 1, bias=False),\n",
    "                nn.BatchNorm2d(ndf * 4),\n",
    "                nn.LeakyReLU(0.2, inplace=True),\n",
    "                \n",
    "                nn.Conv2d(ndf * 4, 1, 4, 1, 0, bias=False),\n",
    "                nn.Sigmoid()\n",
    "            )\n",
    "    def forward(self, input):\n",
    "        output = self.network(input)\n",
    "        return output.view(-1, 1).squeeze(1)"
   ]
  },
  {
   "cell_type": "markdown",
   "id": "discrete-uniform",
   "metadata": {},
   "source": [
    "## Model training\n",
    "* lr : 학습률(learning rate)\n",
    "* train_epoch : 반복 횟수"
   ]
  },
  {
   "cell_type": "code",
   "execution_count": 9,
   "id": "aerial-civilization",
   "metadata": {
    "execution": {
     "iopub.execute_input": "2021-08-22T08:23:48.013406Z",
     "iopub.status.busy": "2021-08-22T08:23:48.013261Z",
     "iopub.status.idle": "2021-08-22T08:23:48.022607Z",
     "shell.execute_reply": "2021-08-22T08:23:48.021752Z",
     "shell.execute_reply.started": "2021-08-22T08:23:48.013391Z"
    },
    "tags": []
   },
   "outputs": [],
   "source": [
    "lr = 0.0002\n",
    "train_epoch = 100"
   ]
  },
  {
   "cell_type": "code",
   "execution_count": 10,
   "id": "paperback-minneapolis",
   "metadata": {
    "execution": {
     "iopub.execute_input": "2021-08-22T08:23:48.023586Z",
     "iopub.status.busy": "2021-08-22T08:23:48.023412Z",
     "iopub.status.idle": "2021-08-22T08:23:54.936151Z",
     "shell.execute_reply": "2021-08-22T08:23:54.934826Z",
     "shell.execute_reply.started": "2021-08-22T08:23:48.023565Z"
    },
    "tags": []
   },
   "outputs": [],
   "source": [
    "G = generator(nc = 3, nz = 100, ngf = 32).to(device)\n",
    "D = discriminator(nc= 3, ndf=32).to(device)\n",
    "\n",
    "criterion = nn.BCELoss()\n",
    "\n",
    "g_optimizer = optim.Adam(G.parameters(), lr=lr)\n",
    "d_optimizer = optim.Adam(D.parameters(), lr=lr)"
   ]
  },
  {
   "cell_type": "code",
   "execution_count": 11,
   "id": "selected-dublin",
   "metadata": {
    "execution": {
     "iopub.execute_input": "2021-08-22T08:23:54.938445Z",
     "iopub.status.busy": "2021-08-22T08:23:54.938132Z",
     "iopub.status.idle": "2021-08-22T08:23:54.947574Z",
     "shell.execute_reply": "2021-08-22T08:23:54.946667Z",
     "shell.execute_reply.started": "2021-08-22T08:23:54.938407Z"
    },
    "tags": []
   },
   "outputs": [
    {
     "data": {
      "text/plain": [
       "torch.Size([25, 100, 1, 1])"
      ]
     },
     "execution_count": 11,
     "metadata": {},
     "output_type": "execute_result"
    }
   ],
   "source": [
    "if not os.path.exists('./model'):\n",
    "    os.makedirs('./model')\n",
    "if not os.path.exists('./result/cifar_dcgan'):\n",
    "    os.makedirs('./result/cifar_dcgan')\n",
    "\n",
    "# fixed noise for training checks\n",
    "fixed_z = torch.randn(5 * 5, 100,1,1)    \n",
    "with torch.no_grad():\n",
    "    fixed_z = Variable(fixed_z.cuda())\n",
    "fixed_z.shape"
   ]
  },
  {
   "cell_type": "code",
   "execution_count": 12,
   "id": "compatible-willow",
   "metadata": {
    "execution": {
     "iopub.execute_input": "2021-08-22T08:23:54.949274Z",
     "iopub.status.busy": "2021-08-22T08:23:54.948978Z",
     "iopub.status.idle": "2021-08-22T08:23:54.960097Z",
     "shell.execute_reply": "2021-08-22T08:23:54.959317Z",
     "shell.execute_reply.started": "2021-08-22T08:23:54.949238Z"
    },
    "tags": []
   },
   "outputs": [],
   "source": [
    "def show_training_proc(num_epoch, img_size, nc = 1, show = False, save = False, path = 'result.png', isFix=False):\n",
    "    z = torch.randn(5*5, 100, 1, 1)\n",
    "    with torch.no_grad():\n",
    "        z = Variable(z.cuda())\n",
    "\n",
    "    G.eval()\n",
    "    if isFix:\n",
    "        test_images = G(fixed_z)\n",
    "    else:\n",
    "        test_images = G(z)\n",
    "    G.train()\n",
    "    \n",
    "    if nc ==1:\n",
    "        plt.imshow(torchvision.utils.make_grid(test_images.data.view(-1,img_size, img_size).unsqueeze(1).detach().cpu(), normalize = True, nrow = 5).permute(1,2,0), cmap='gray')\n",
    "    else:\n",
    "        plt.imshow(torchvision.utils.make_grid(test_images.data.view(-1,nc, img_size, img_size).detach().cpu(), normalize = True, nrow = 5).permute(1,2,0), cmap='gray')\n",
    "       \n",
    "    label = 'Epoch {0}'.format(num_epoch)\n",
    "    plt.title(label)\n",
    "    plt.savefig(path)\n",
    "\n",
    "    if show:\n",
    "        plt.show()\n",
    "    else:\n",
    "        plt.close()"
   ]
  },
  {
   "cell_type": "code",
   "execution_count": 13,
   "id": "based-accordance",
   "metadata": {
    "execution": {
     "iopub.execute_input": "2021-08-22T08:23:54.961475Z",
     "iopub.status.busy": "2021-08-22T08:23:54.961239Z",
     "iopub.status.idle": "2021-08-22T08:50:06.424760Z",
     "shell.execute_reply": "2021-08-22T08:50:06.423909Z",
     "shell.execute_reply.started": "2021-08-22T08:23:54.961446Z"
    },
    "tags": []
   },
   "outputs": [
    {
     "name": "stdout",
     "output_type": "stream",
     "text": [
      "[1/100]: loss_d: 0.141, loss_g: 4.934\n",
      "[2/100]: loss_d: 0.038, loss_g: 5.938\n",
      "[3/100]: loss_d: 0.062, loss_g: 6.033\n",
      "[4/100]: loss_d: 0.058, loss_g: 6.157\n",
      "[5/100]: loss_d: 0.049, loss_g: 6.360\n",
      "[6/100]: loss_d: 0.065, loss_g: 6.859\n",
      "[7/100]: loss_d: 0.042, loss_g: 6.990\n",
      "[8/100]: loss_d: 0.036, loss_g: 6.981\n",
      "[9/100]: loss_d: 0.038, loss_g: 7.166\n",
      "[10/100]: loss_d: 0.055, loss_g: 6.691\n",
      "[11/100]: loss_d: 0.062, loss_g: 6.470\n",
      "[12/100]: loss_d: 0.083, loss_g: 6.185\n",
      "[13/100]: loss_d: 0.086, loss_g: 5.857\n",
      "[14/100]: loss_d: 0.082, loss_g: 5.924\n",
      "[15/100]: loss_d: 0.081, loss_g: 5.750\n",
      "[16/100]: loss_d: 0.078, loss_g: 5.869\n",
      "[17/100]: loss_d: 0.106, loss_g: 5.645\n",
      "[18/100]: loss_d: 0.098, loss_g: 5.813\n",
      "[19/100]: loss_d: 0.133, loss_g: 5.538\n",
      "[20/100]: loss_d: 0.120, loss_g: 5.502\n",
      "[21/100]: loss_d: 0.144, loss_g: 5.325\n",
      "[22/100]: loss_d: 0.130, loss_g: 5.192\n",
      "[23/100]: loss_d: 0.144, loss_g: 4.845\n",
      "[24/100]: loss_d: 0.116, loss_g: 5.183\n",
      "[25/100]: loss_d: 0.107, loss_g: 5.226\n",
      "[26/100]: loss_d: 0.107, loss_g: 5.287\n",
      "[27/100]: loss_d: 0.091, loss_g: 5.469\n",
      "[28/100]: loss_d: 0.080, loss_g: 5.399\n",
      "[29/100]: loss_d: 0.104, loss_g: 5.254\n",
      "[30/100]: loss_d: 0.111, loss_g: 5.423\n",
      "[31/100]: loss_d: 0.126, loss_g: 5.401\n",
      "[32/100]: loss_d: 0.124, loss_g: 5.394\n",
      "[33/100]: loss_d: 0.111, loss_g: 5.227\n",
      "[34/100]: loss_d: 0.178, loss_g: 5.253\n",
      "[35/100]: loss_d: 0.137, loss_g: 4.941\n",
      "[36/100]: loss_d: 0.170, loss_g: 5.127\n",
      "[37/100]: loss_d: 0.163, loss_g: 5.031\n",
      "[38/100]: loss_d: 0.141, loss_g: 4.980\n",
      "[39/100]: loss_d: 0.158, loss_g: 5.018\n",
      "[40/100]: loss_d: 0.176, loss_g: 4.800\n",
      "[41/100]: loss_d: 0.162, loss_g: 4.793\n",
      "[42/100]: loss_d: 0.177, loss_g: 5.023\n",
      "[43/100]: loss_d: 0.174, loss_g: 4.794\n",
      "[44/100]: loss_d: 0.225, loss_g: 4.658\n",
      "[45/100]: loss_d: 0.218, loss_g: 4.634\n",
      "[46/100]: loss_d: 0.225, loss_g: 4.255\n",
      "[47/100]: loss_d: 0.227, loss_g: 4.298\n",
      "[48/100]: loss_d: 0.232, loss_g: 4.241\n",
      "[49/100]: loss_d: 0.255, loss_g: 4.161\n",
      "[50/100]: loss_d: 0.295, loss_g: 4.378\n",
      "[51/100]: loss_d: 0.281, loss_g: 4.088\n",
      "[52/100]: loss_d: 0.265, loss_g: 4.089\n",
      "[53/100]: loss_d: 0.282, loss_g: 4.059\n",
      "[54/100]: loss_d: 0.262, loss_g: 3.940\n",
      "[55/100]: loss_d: 0.254, loss_g: 3.946\n",
      "[56/100]: loss_d: 0.269, loss_g: 3.985\n",
      "[57/100]: loss_d: 0.304, loss_g: 4.192\n",
      "[58/100]: loss_d: 0.319, loss_g: 3.958\n",
      "[59/100]: loss_d: 0.275, loss_g: 3.942\n",
      "[60/100]: loss_d: 0.268, loss_g: 3.960\n",
      "[61/100]: loss_d: 0.260, loss_g: 3.716\n",
      "[62/100]: loss_d: 0.245, loss_g: 3.853\n",
      "[63/100]: loss_d: 0.258, loss_g: 3.870\n",
      "[64/100]: loss_d: 0.247, loss_g: 3.910\n",
      "[65/100]: loss_d: 0.239, loss_g: 3.770\n",
      "[66/100]: loss_d: 0.261, loss_g: 3.987\n",
      "[67/100]: loss_d: 0.284, loss_g: 3.876\n",
      "[68/100]: loss_d: 0.282, loss_g: 3.783\n",
      "[69/100]: loss_d: 0.286, loss_g: 3.872\n",
      "[70/100]: loss_d: 0.301, loss_g: 3.772\n",
      "[71/100]: loss_d: 0.308, loss_g: 3.704\n",
      "[72/100]: loss_d: 0.302, loss_g: 3.688\n",
      "[73/100]: loss_d: 0.288, loss_g: 3.663\n",
      "[74/100]: loss_d: 0.317, loss_g: 3.616\n",
      "[75/100]: loss_d: 0.304, loss_g: 3.767\n",
      "[76/100]: loss_d: 0.321, loss_g: 3.702\n",
      "[77/100]: loss_d: 0.319, loss_g: 3.678\n",
      "[78/100]: loss_d: 0.321, loss_g: 3.643\n",
      "[79/100]: loss_d: 0.311, loss_g: 3.529\n",
      "[80/100]: loss_d: 0.315, loss_g: 3.528\n",
      "[81/100]: loss_d: 0.320, loss_g: 3.582\n",
      "[82/100]: loss_d: 0.369, loss_g: 3.509\n",
      "[83/100]: loss_d: 0.346, loss_g: 3.455\n",
      "[84/100]: loss_d: 0.346, loss_g: 3.326\n",
      "[85/100]: loss_d: 0.360, loss_g: 3.490\n",
      "[86/100]: loss_d: 0.357, loss_g: 3.512\n",
      "[87/100]: loss_d: 0.426, loss_g: 3.274\n",
      "[88/100]: loss_d: 0.351, loss_g: 3.352\n",
      "[89/100]: loss_d: 0.335, loss_g: 3.341\n",
      "[90/100]: loss_d: 0.345, loss_g: 3.369\n",
      "[91/100]: loss_d: 0.358, loss_g: 3.363\n",
      "[92/100]: loss_d: 0.356, loss_g: 3.380\n",
      "[93/100]: loss_d: 0.398, loss_g: 3.406\n",
      "[94/100]: loss_d: 0.357, loss_g: 3.249\n",
      "[95/100]: loss_d: 0.382, loss_g: 3.287\n",
      "[96/100]: loss_d: 0.376, loss_g: 3.282\n",
      "[97/100]: loss_d: 0.398, loss_g: 3.240\n",
      "[98/100]: loss_d: 0.378, loss_g: 3.202\n",
      "[99/100]: loss_d: 0.408, loss_g: 3.257\n",
      "[100/100]: loss_d: 0.384, loss_g: 3.237\n"
     ]
    }
   ],
   "source": [
    "train_hist = {}\n",
    "train_hist['D_losses'] = []\n",
    "train_hist['G_losses'] = []\n",
    "\n",
    "for epoch in range(train_epoch):\n",
    "    D_losses = []\n",
    "    G_losses = []\n",
    "    for x, _ in train_loader_cifar:\n",
    "        # train discriminator D\n",
    "        D.zero_grad()\n",
    "#         x = x.view(-1, 28 * 28)\n",
    "        mini_batch = x.size()[0]\n",
    "\n",
    "        y_real = torch.ones(mini_batch)\n",
    "        y_fake = torch.zeros(mini_batch)\n",
    "\n",
    "        x, y_real, y_fake = Variable(x.cuda()), Variable(y_real.cuda()), Variable(y_fake.cuda())\n",
    "        \n",
    "        D_x = D(x)\n",
    "        D_real_loss = criterion(D_x, y_real)\n",
    "        D_real_score = D_x\n",
    "\n",
    "        z = torch.randn(mini_batch, 100, 1,1)\n",
    "        z = Variable(z.cuda())\n",
    "        G_z = G(z)\n",
    "\n",
    "        D_gz = D(G_z)\n",
    "        D_fake_loss = criterion(D_gz, y_fake)\n",
    "        D_fake_score = D_gz\n",
    "\n",
    "        D_train_loss = D_real_loss + D_fake_loss\n",
    "\n",
    "        D_train_loss.backward()\n",
    "        d_optimizer.step()\n",
    "\n",
    "        D_losses.append(D_train_loss.item())\n",
    "\n",
    "        # train generator G\n",
    "        G.zero_grad()\n",
    "\n",
    "        z = torch.randn(mini_batch, 100, 1,1)\n",
    "        y = torch.ones(mini_batch)\n",
    "\n",
    "        z, y = Variable(z.cuda()), Variable(y.cuda())\n",
    "        G_z = G(z)\n",
    "        D_gz = D(G_z)\n",
    "        G_train_loss = criterion(D_gz, y)\n",
    "        G_train_loss.backward()\n",
    "        g_optimizer.step()\n",
    "\n",
    "        G_losses.append(G_train_loss.item())\n",
    "\n",
    "    print('[%d/%d]: loss_d: %.3f, loss_g: %.3f' % ((epoch + 1), train_epoch, torch.mean(torch.FloatTensor(D_losses)), torch.mean(torch.FloatTensor(G_losses))))\n",
    "          \n",
    "    train_hist['D_losses'].append(torch.mean(torch.FloatTensor(D_losses)))\n",
    "    train_hist['G_losses'].append(torch.mean(torch.FloatTensor(G_losses)))\n",
    "    \n",
    "    show_training_proc((epoch+1), img_size = 32, nc=3, save=True, path='./result/cifar_dcgan/cifar_DCGAN_result_{0:03d}.png'.format(epoch+1), isFix=False)\n",
    "    show_training_proc((epoch+1), img_size = 32, nc=3, save=True, path='./result/cifar_dcgan/cifar_DCGAN_result_fixed_{0:03d}.png'.format(epoch+1), isFix=True)\n",
    "          \n",
    "torch.save(G.state_dict(), './model/G_DCGAN_cifar.ckpt')\n",
    "torch.save(D.state_dict(), './model/D_DCGAN_cifar.ckpt')"
   ]
  },
  {
   "cell_type": "code",
   "execution_count": 14,
   "id": "lucky-diabetes",
   "metadata": {
    "execution": {
     "iopub.execute_input": "2021-08-22T08:50:06.425763Z",
     "iopub.status.busy": "2021-08-22T08:50:06.425620Z",
     "iopub.status.idle": "2021-08-22T08:50:06.547918Z",
     "shell.execute_reply": "2021-08-22T08:50:06.547001Z",
     "shell.execute_reply.started": "2021-08-22T08:50:06.425746Z"
    },
    "tags": []
   },
   "outputs": [
    {
     "data": {
      "image/png": "[encoded data removed]",
      "text/plain": [
       "<Figure size 864x288 with 1 Axes>"
      ]
     },
     "metadata": {
      "needs_background": "light"
     },
     "output_type": "display_data"
    }
   ],
   "source": [
    "x = range(len(train_hist['D_losses']))\n",
    "\n",
    "y1 = train_hist['D_losses']\n",
    "y2 = train_hist['G_losses']\n",
    "plt.figure(figsize= (12,4))\n",
    "plt.plot(x, y1, label='D_loss')\n",
    "plt.plot(x, y2, label='G_loss')\n",
    "\n",
    "plt.xlabel('Epoch')\n",
    "plt.ylabel('Loss')\n",
    "\n",
    "plt.legend(loc=4)\n",
    "plt.grid(True)\n",
    "plt.tight_layout()\n",
    "plt.show()"
   ]
  }
 ],
 "metadata": {
  "kernelspec": {
   "display_name": "Python 3",
   "language": "python",
   "name": "python3"
  },
  "language_info": {
   "codemirror_mode": {
    "name": "ipython",
    "version": 3
   },
   "file_extension": ".py",
   "mimetype": "text/x-python",
   "name": "python",
   "nbconvert_exporter": "python",
   "pygments_lexer": "ipython3",
   "version": "3.7.3"
  },
  "widgets": {
   "application/vnd.jupyter.widget-state+json": {
    "state": {},
    "version_major": 2,
    "version_minor": 0
   }
  }
 },
 "nbformat": 4,
 "nbformat_minor": 5
}
