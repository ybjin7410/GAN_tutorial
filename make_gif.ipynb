{
 "cells": [
  {
   "cell_type": "code",
   "execution_count": 55,
   "id": "rotary-kitty",
   "metadata": {
    "execution": {
     "iopub.execute_input": "2021-08-22T08:29:50.428058Z",
     "iopub.status.busy": "2021-08-22T08:29:50.427478Z",
     "iopub.status.idle": "2021-08-22T08:29:50.435011Z",
     "shell.execute_reply": "2021-08-22T08:29:50.433487Z",
     "shell.execute_reply.started": "2021-08-22T08:29:50.427993Z"
    },
    "tags": []
   },
   "outputs": [],
   "source": [
    "import os\n",
    "from PIL import Image\n",
    "from IPython.display import Image as Img\n",
    "from IPython.display import display"
   ]
  },
  {
   "cell_type": "code",
   "execution_count": 80,
   "id": "painted-dressing",
   "metadata": {
    "execution": {
     "iopub.execute_input": "2021-08-22T09:33:28.789518Z",
     "iopub.status.busy": "2021-08-22T09:33:28.788909Z",
     "iopub.status.idle": "2021-08-22T09:33:28.806074Z",
     "shell.execute_reply": "2021-08-22T09:33:28.804564Z",
     "shell.execute_reply.started": "2021-08-22T09:33:28.789451Z"
    },
    "tags": []
   },
   "outputs": [],
   "source": [
    "def generate_gif(read_path, name, duration = 200, fixed = True):\n",
    "    img_list = os.listdir(read_path)\n",
    "    img_list_all = [read_path + '/' + x for x in img_list if 'png' in x]\n",
    "    img_list_fixed = [read_path + '/' + x for x in img_list if 'fixed' in x]\n",
    "    img_list_random = [x for x in img_list_all if x not in img_list_fixed]\n",
    "\n",
    "    if fixed:\n",
    "        img_list_fixed.sort()\n",
    "        images = [Image.open(x) for x in img_list_fixed]\n",
    "    else:\n",
    "        img_list_random.sort()\n",
    "        images = [Image.open(x) for x in img_list_random]\n",
    "    \n",
    "    im = images[0]\n",
    "    im.save('{}.gif'.format(name), save_all=True, append_images=images[1:], loop=0xff, duration=duration)\n",
    "\n",
    "    return Img(url='{}.gif'.format(name))"
   ]
  },
  {
   "cell_type": "code",
   "execution_count": 81,
   "id": "violent-smoke",
   "metadata": {
    "execution": {
     "iopub.execute_input": "2021-08-22T09:33:29.012239Z",
     "iopub.status.busy": "2021-08-22T09:33:29.011701Z",
     "iopub.status.idle": "2021-08-22T09:33:29.379755Z",
     "shell.execute_reply": "2021-08-22T09:33:29.378402Z",
     "shell.execute_reply.started": "2021-08-22T09:33:29.012175Z"
    },
    "tags": []
   },
   "outputs": [
    {
     "data": {
      "text/html": [
       "<img src=\"mnist_gan.gif\"/>"
      ],
      "text/plain": [
       "<IPython.core.display.Image object>"
      ]
     },
     "execution_count": 81,
     "metadata": {},
     "output_type": "execute_result"
    }
   ],
   "source": [
    "generate_gif('./result/mnist_gan', 'mnist_gan')"
   ]
  },
  {
   "cell_type": "code",
   "execution_count": 82,
   "id": "significant-angola",
   "metadata": {
    "execution": {
     "iopub.execute_input": "2021-08-22T09:33:29.437329Z",
     "iopub.status.busy": "2021-08-22T09:33:29.436809Z",
     "iopub.status.idle": "2021-08-22T09:33:29.804621Z",
     "shell.execute_reply": "2021-08-22T09:33:29.803822Z",
     "shell.execute_reply.started": "2021-08-22T09:33:29.437266Z"
    },
    "tags": []
   },
   "outputs": [
    {
     "data": {
      "text/html": [
       "<img src=\"mnist_dcgan.gif\"/>"
      ],
      "text/plain": [
       "<IPython.core.display.Image object>"
      ]
     },
     "execution_count": 82,
     "metadata": {},
     "output_type": "execute_result"
    }
   ],
   "source": [
    "generate_gif('./result/mnist_dcgan', 'mnist_dcgan')"
   ]
  },
  {
   "cell_type": "code",
   "execution_count": 84,
   "id": "played-convergence",
   "metadata": {
    "execution": {
     "iopub.execute_input": "2021-08-22T09:33:41.237725Z",
     "iopub.status.busy": "2021-08-22T09:33:41.237155Z",
     "iopub.status.idle": "2021-08-22T09:33:42.026178Z",
     "shell.execute_reply": "2021-08-22T09:33:42.025434Z",
     "shell.execute_reply.started": "2021-08-22T09:33:41.237660Z"
    },
    "tags": []
   },
   "outputs": [
    {
     "data": {
      "text/html": [
       "<img src=\"cifar_dcgan.gif\"/>"
      ],
      "text/plain": [
       "<IPython.core.display.Image object>"
      ]
     },
     "execution_count": 84,
     "metadata": {},
     "output_type": "execute_result"
    }
   ],
   "source": [
    "generate_gif('./result/cifar_dcgan', 'cifar_dcgan', duration= 150)"
   ]
  },
  {
   "cell_type": "code",
   "execution_count": null,
   "id": "portable-employee",
   "metadata": {},
   "outputs": [],
   "source": []
  }
 ],
 "metadata": {
  "kernelspec": {
   "display_name": "Python 3",
   "language": "python",
   "name": "python3"
  },
  "language_info": {
   "codemirror_mode": {
    "name": "ipython",
    "version": 3
   },
   "file_extension": ".py",
   "mimetype": "text/x-python",
   "name": "python",
   "nbconvert_exporter": "python",
   "pygments_lexer": "ipython3",
   "version": "3.7.3"
  },
  "widgets": {
   "application/vnd.jupyter.widget-state+json": {
    "state": {},
    "version_major": 2,
    "version_minor": 0
   }
  }
 },
 "nbformat": 4,
 "nbformat_minor": 5
}
