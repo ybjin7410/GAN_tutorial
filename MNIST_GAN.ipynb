{
 "cells": [
  {
   "cell_type": "markdown",
   "id": "judicial-freight",
   "metadata": {},
   "source": [
    "# Index\n",
    "1. Load libraries & Setting\n",
    "2. MNIST dataset downlad\n",
    "3. Model construction (___G___, ___D___)\n",
    "4. Model training\n"
   ]
  },
  {
   "cell_type": "markdown",
   "id": "mounted-humanity",
   "metadata": {},
   "source": [
    "## Load libraries & Setting"
   ]
  },
  {
   "cell_type": "code",
   "execution_count": 37,
   "id": "likely-scotland",
   "metadata": {
    "execution": {
     "iopub.execute_input": "2021-08-20T07:19:31.786613Z",
     "iopub.status.busy": "2021-08-20T07:19:31.786037Z",
     "iopub.status.idle": "2021-08-20T07:19:31.796273Z",
     "shell.execute_reply": "2021-08-20T07:19:31.794980Z",
     "shell.execute_reply.started": "2021-08-20T07:19:31.786547Z"
    },
    "tags": []
   },
   "outputs": [],
   "source": [
    "import os\n",
    "import random\n",
    "import numpy as np\n",
    "import pandas as pd\n",
    "import matplotlib\n",
    "import matplotlib.pyplot as plt\n",
    "\n",
    "import torch\n",
    "import torch.nn as nn\n",
    "import torch.optim as optim\n",
    "import torch.nn.functional as F\n",
    "from torch.autograd import Variable\n",
    "\n",
    "import torchvision\n",
    "from torchvision import datasets, transforms"
   ]
  },
  {
   "cell_type": "code",
   "execution_count": 2,
   "id": "corresponding-extreme",
   "metadata": {
    "execution": {
     "iopub.execute_input": "2021-08-20T06:57:03.132141Z",
     "iopub.status.busy": "2021-08-20T06:57:03.131991Z",
     "iopub.status.idle": "2021-08-20T06:57:03.138019Z",
     "shell.execute_reply": "2021-08-20T06:57:03.137221Z",
     "shell.execute_reply.started": "2021-08-20T06:57:03.132122Z"
    },
    "tags": []
   },
   "outputs": [],
   "source": [
    "# Randomness control for Reproducibility\n",
    "seed = 123\n",
    "\n",
    "random.seed(seed)\n",
    "np.random.seed(seed)\n",
    "torch.cuda.manual_seed(seed)\n",
    "torch.cuda.manual_seed_all(seed) #if use multi-GPU\n",
    "torch.manual_seed(seed)"
   ]
  },
  {
   "cell_type": "code",
   "execution_count": 3,
   "id": "greater-schedule",
   "metadata": {
    "execution": {
     "iopub.execute_input": "2021-08-20T06:57:03.138829Z",
     "iopub.status.busy": "2021-08-20T06:57:03.138700Z",
     "iopub.status.idle": "2021-08-20T06:57:03.645836Z",
     "shell.execute_reply": "2021-08-20T06:57:03.644632Z",
     "shell.execute_reply.started": "2021-08-20T06:57:03.138812Z"
    },
    "tags": []
   },
   "outputs": [
    {
     "name": "stdout",
     "output_type": "stream",
     "text": [
      "cuda\n"
     ]
    }
   ],
   "source": [
    "# device setting\n",
    "device = torch.device('cuda' if torch.cuda.is_available() else 'cpu')\n",
    "print(device)"
   ]
  },
  {
   "cell_type": "markdown",
   "id": "allied-installation",
   "metadata": {},
   "source": [
    "## MNIST dataset downlad\n",
    "* batch_size : 배치 사이즈 설정"
   ]
  },
  {
   "cell_type": "code",
   "execution_count": 30,
   "id": "english-pierre",
   "metadata": {
    "execution": {
     "iopub.execute_input": "2021-08-20T07:14:57.701594Z",
     "iopub.status.busy": "2021-08-20T07:14:57.701027Z",
     "iopub.status.idle": "2021-08-20T07:14:58.501555Z",
     "shell.execute_reply": "2021-08-20T07:14:58.500714Z",
     "shell.execute_reply.started": "2021-08-20T07:14:57.701530Z"
    },
    "tags": []
   },
   "outputs": [
    {
     "name": "stdout",
     "output_type": "stream",
     "text": [
      "Files already downloaded and verified\n"
     ]
    }
   ],
   "source": [
    "batch_size = 128\n",
    "\n",
    "# MNIST dataset\n",
    "transforms_mnist = transforms.Compose([transforms.ToTensor(),\n",
    "                                                transforms.Normalize(mean=(0.5,), std=(0.5,))])\n",
    "\n",
    "train_loader_mnist = torch.utils.data.DataLoader(datasets.MNIST('data', train=True, download=True, transform=transforms_mnist),\n",
    "                                           batch_size=batch_size, shuffle=True)"
   ]
  },
  {
   "cell_type": "code",
   "execution_count": 35,
   "id": "caring-fifth",
   "metadata": {
    "execution": {
     "iopub.execute_input": "2021-08-20T07:18:30.594646Z",
     "iopub.status.busy": "2021-08-20T07:18:30.594056Z",
     "iopub.status.idle": "2021-08-20T07:18:30.635052Z",
     "shell.execute_reply": "2021-08-20T07:18:30.634110Z",
     "shell.execute_reply.started": "2021-08-20T07:18:30.594580Z"
    },
    "tags": []
   },
   "outputs": [
    {
     "name": "stdout",
     "output_type": "stream",
     "text": [
      "torch.Size([128, 1, 28, 28])\n",
      "torch.Size([128])\n"
     ]
    }
   ],
   "source": [
    "image, label=iter(train_loader_mnist).next()\n",
    "\n",
    "print(image.shape)\n",
    "print(label.shape)"
   ]
  },
  {
   "cell_type": "code",
   "execution_count": 43,
   "id": "intimate-reach",
   "metadata": {
    "execution": {
     "iopub.execute_input": "2021-08-20T07:21:21.560164Z",
     "iopub.status.busy": "2021-08-20T07:21:21.559598Z",
     "iopub.status.idle": "2021-08-20T07:21:21.698076Z",
     "shell.execute_reply": "2021-08-20T07:21:21.696849Z",
     "shell.execute_reply.started": "2021-08-20T07:21:21.560098Z"
    },
    "tags": []
   },
   "outputs": [
    {
     "data": {
      "image/png": "[encoded data removed]",
      "text/plain": [
       "<Figure size 1152x144 with 1 Axes>"
      ]
     },
     "metadata": {
      "needs_background": "light"
     },
     "output_type": "display_data"
    }
   ],
   "source": [
    "plt.figure(figsize= (16,2))\n",
    "plt.imshow(torchvision.utils.make_grid(image[:8], normalize = True).permute(1,2,0))\n",
    "plt.title(label[:8])\n",
    "plt.show()"
   ]
  },
  {
   "cell_type": "markdown",
   "id": "dated-latvia",
   "metadata": {},
   "source": [
    "## Model construction (___G___, ___D___)"
   ]
  },
  {
   "cell_type": "code",
   "execution_count": 137,
   "id": "narrative-entrepreneur",
   "metadata": {
    "execution": {
     "iopub.execute_input": "2021-08-20T09:10:09.820312Z",
     "iopub.status.busy": "2021-08-20T09:10:09.820118Z",
     "iopub.status.idle": "2021-08-20T09:10:09.830815Z",
     "shell.execute_reply": "2021-08-20T09:10:09.829572Z",
     "shell.execute_reply.started": "2021-08-20T09:10:09.820293Z"
    },
    "tags": []
   },
   "outputs": [],
   "source": [
    "class generator(nn.Module):\n",
    "    # initializers\n",
    "    def __init__(self, input_size=28, n_class = 10):\n",
    "        super(generator, self).__init__()\n",
    "        self.fc1 = nn.Linear(input_size, 256)\n",
    "        self.fc2 = nn.Linear(256, 512)\n",
    "        self.fc3 = nn.Linear(512, 1024)\n",
    "        self.fc4 = nn.Linear(1024, n_class)\n",
    "\n",
    "    # forward method\n",
    "    def forward(self, inputs):\n",
    "        x = inputs.view(inputs.size(0), 100)  \n",
    "        x = F.leaky_relu(self.fc1(x), 0.2)\n",
    "        x = F.leaky_relu(self.fc2(x), 0.2)\n",
    "        x = F.leaky_relu(self.fc3(x), 0.2)\n",
    "        x = F.tanh(self.fc4(x))\n",
    "        return x\n",
    "\n",
    "class discriminator(nn.Module):\n",
    "    # initializers\n",
    "    def __init__(self, input_size=28, n_class=10):\n",
    "        super(discriminator, self).__init__()\n",
    "        self.fc1 = nn.Linear(input_size, 1024)\n",
    "        self.fc2 = nn.Linear(1024, 512)\n",
    "        self.fc3 = nn.Linear(512, 256)\n",
    "        self.fc4 = nn.Linear(256, n_class)\n",
    "\n",
    "    # forward method\n",
    "    def forward(self, inputs):\n",
    "        x = F.leaky_relu(self.fc1(inputs), 0.2)\n",
    "        x = F.dropout(x, 0.3)\n",
    "        x = F.leaky_relu(self.fc2(x), 0.2)\n",
    "        x = F.dropout(x, 0.3)\n",
    "        x = F.leaky_relu(self.fc3(x), 0.2)\n",
    "        x = F.dropout(x, 0.3)\n",
    "        x = F.sigmoid(self.fc4(x))\n",
    "        x = x.view(x.size(0), -1)\n",
    "        return x"
   ]
  },
  {
   "cell_type": "markdown",
   "id": "advance-mother",
   "metadata": {},
   "source": [
    "## Model training\n",
    "* lr : 학습률(learning rate)\n",
    "* train_epoch : 반복 횟수"
   ]
  },
  {
   "cell_type": "code",
   "execution_count": 144,
   "id": "requested-publicity",
   "metadata": {
    "execution": {
     "iopub.execute_input": "2021-08-20T09:11:01.225158Z",
     "iopub.status.busy": "2021-08-20T09:11:01.224572Z",
     "iopub.status.idle": "2021-08-20T09:11:01.232068Z",
     "shell.execute_reply": "2021-08-20T09:11:01.230678Z",
     "shell.execute_reply.started": "2021-08-20T09:11:01.225090Z"
    },
    "tags": []
   },
   "outputs": [],
   "source": [
    "lr = 0.0002\n",
    "train_epoch = 100"
   ]
  },
  {
   "cell_type": "code",
   "execution_count": 145,
   "id": "static-renaissance",
   "metadata": {
    "execution": {
     "iopub.execute_input": "2021-08-20T09:11:02.168387Z",
     "iopub.status.busy": "2021-08-20T09:11:02.167819Z",
     "iopub.status.idle": "2021-08-20T09:11:02.215417Z",
     "shell.execute_reply": "2021-08-20T09:11:02.214646Z",
     "shell.execute_reply.started": "2021-08-20T09:11:02.168323Z"
    },
    "tags": []
   },
   "outputs": [],
   "source": [
    "G = generator(input_size=100, n_class=28*28).to(device)\n",
    "D = discriminator(input_size=28*28, n_class=1).to(device)\n",
    "\n",
    "criterion = nn.BCELoss()\n",
    "\n",
    "g_optimizer = optim.Adam(G.parameters(), lr=lr)\n",
    "d_optimizer = optim.Adam(D.parameters(), lr=lr)"
   ]
  },
  {
   "cell_type": "code",
   "execution_count": 146,
   "id": "oriented-nursery",
   "metadata": {
    "execution": {
     "iopub.execute_input": "2021-08-20T09:11:02.534189Z",
     "iopub.status.busy": "2021-08-20T09:11:02.533606Z",
     "iopub.status.idle": "2021-08-20T09:11:02.549019Z",
     "shell.execute_reply": "2021-08-20T09:11:02.547894Z",
     "shell.execute_reply.started": "2021-08-20T09:11:02.534122Z"
    },
    "tags": []
   },
   "outputs": [
    {
     "data": {
      "text/plain": [
       "torch.Size([25, 100])"
      ]
     },
     "execution_count": 146,
     "metadata": {},
     "output_type": "execute_result"
    }
   ],
   "source": [
    "if not os.path.exists('./model'):\n",
    "    os.makedirs('./model')\n",
    "if not os.path.exists('./result'):\n",
    "    os.makedirs('./result')\n",
    "\n",
    "# fixed noise for training checks\n",
    "fixed_z = torch.randn((5 * 5, 100))    \n",
    "with torch.no_grad():\n",
    "    fixed_z = Variable(fixed_z.cuda())\n",
    "fixed_z.shape"
   ]
  },
  {
   "cell_type": "code",
   "execution_count": 153,
   "id": "thermal-disposal",
   "metadata": {
    "execution": {
     "iopub.execute_input": "2021-08-20T09:31:52.576450Z",
     "iopub.status.busy": "2021-08-20T09:31:52.576315Z",
     "iopub.status.idle": "2021-08-20T09:31:52.585737Z",
     "shell.execute_reply": "2021-08-20T09:31:52.584969Z",
     "shell.execute_reply.started": "2021-08-20T09:31:52.576434Z"
    },
    "tags": []
   },
   "outputs": [],
   "source": [
    "def show_training_proc(num_epoch, img_size, show = False, save = False, path = 'result.png', isFix=False):\n",
    "    z = torch.randn((5*5, 100))\n",
    "    with torch.no_grad():\n",
    "        z = Variable(z.cuda())\n",
    "\n",
    "    G.eval()\n",
    "    if isFix:\n",
    "        test_images = G(fixed_z)\n",
    "    else:\n",
    "        test_images = G(z)\n",
    "    G.train()\n",
    "\n",
    "    plt.imshow(torchvision.utils.make_grid(test_images.data.view(-1,img_size, img_size).unsqueeze(1).detach().cpu(), normalize = True, nrow = 5).permute(1,2,0), cmap='gray')\n",
    "    label = 'Epoch {0}'.format(num_epoch)\n",
    "\n",
    "    plt.savefig(path)\n",
    "\n",
    "    if show:\n",
    "        plt.show()\n",
    "    else:\n",
    "        plt.close()"
   ]
  },
  {
   "cell_type": "code",
   "execution_count": 150,
   "id": "golden-scout",
   "metadata": {
    "execution": {
     "iopub.execute_input": "2021-08-20T09:11:07.784720Z",
     "iopub.status.busy": "2021-08-20T09:11:07.784206Z",
     "iopub.status.idle": "2021-08-20T09:31:51.420339Z",
     "shell.execute_reply": "2021-08-20T09:31:51.419464Z",
     "shell.execute_reply.started": "2021-08-20T09:11:07.784658Z"
    },
    "tags": []
   },
   "outputs": [
    {
     "name": "stdout",
     "output_type": "stream",
     "text": [
      "[1/100]: loss_d: 1.025, loss_g: 2.553\n",
      "[2/100]: loss_d: 1.217, loss_g: 1.290\n",
      "[3/100]: loss_d: 1.083, loss_g: 1.558\n",
      "[4/100]: loss_d: 0.841, loss_g: 2.644\n",
      "[5/100]: loss_d: 0.694, loss_g: 3.490\n",
      "[6/100]: loss_d: 0.788, loss_g: 2.239\n",
      "[7/100]: loss_d: 0.694, loss_g: 2.401\n",
      "[8/100]: loss_d: 0.671, loss_g: 2.452\n",
      "[9/100]: loss_d: 0.491, loss_g: 2.890\n",
      "[10/100]: loss_d: 0.522, loss_g: 2.613\n",
      "[11/100]: loss_d: 0.538, loss_g: 2.675\n",
      "[12/100]: loss_d: 0.530, loss_g: 2.692\n",
      "[13/100]: loss_d: 0.525, loss_g: 2.744\n",
      "[14/100]: loss_d: 0.634, loss_g: 2.318\n",
      "[15/100]: loss_d: 0.590, loss_g: 2.553\n",
      "[16/100]: loss_d: 0.625, loss_g: 2.349\n",
      "[17/100]: loss_d: 0.670, loss_g: 2.228\n",
      "[18/100]: loss_d: 0.706, loss_g: 2.110\n",
      "[19/100]: loss_d: 0.773, loss_g: 1.963\n",
      "[20/100]: loss_d: 0.812, loss_g: 1.918\n",
      "[21/100]: loss_d: 0.764, loss_g: 1.992\n",
      "[22/100]: loss_d: 0.785, loss_g: 1.886\n",
      "[23/100]: loss_d: 0.796, loss_g: 1.887\n",
      "[24/100]: loss_d: 0.859, loss_g: 1.734\n",
      "[25/100]: loss_d: 0.834, loss_g: 1.786\n",
      "[26/100]: loss_d: 0.869, loss_g: 1.754\n",
      "[27/100]: loss_d: 0.897, loss_g: 1.637\n",
      "[28/100]: loss_d: 0.877, loss_g: 1.696\n",
      "[29/100]: loss_d: 0.879, loss_g: 1.728\n",
      "[30/100]: loss_d: 0.873, loss_g: 1.699\n",
      "[31/100]: loss_d: 0.899, loss_g: 1.681\n",
      "[32/100]: loss_d: 0.907, loss_g: 1.605\n",
      "[33/100]: loss_d: 0.929, loss_g: 1.551\n",
      "[34/100]: loss_d: 0.977, loss_g: 1.423\n",
      "[35/100]: loss_d: 0.978, loss_g: 1.454\n",
      "[36/100]: loss_d: 0.955, loss_g: 1.514\n",
      "[37/100]: loss_d: 0.958, loss_g: 1.508\n",
      "[38/100]: loss_d: 0.973, loss_g: 1.461\n",
      "[39/100]: loss_d: 0.997, loss_g: 1.434\n",
      "[40/100]: loss_d: 0.994, loss_g: 1.424\n",
      "[41/100]: loss_d: 1.002, loss_g: 1.401\n",
      "[42/100]: loss_d: 1.030, loss_g: 1.344\n",
      "[43/100]: loss_d: 1.047, loss_g: 1.314\n",
      "[44/100]: loss_d: 1.057, loss_g: 1.295\n",
      "[45/100]: loss_d: 1.053, loss_g: 1.290\n",
      "[46/100]: loss_d: 1.082, loss_g: 1.248\n",
      "[47/100]: loss_d: 1.077, loss_g: 1.255\n",
      "[48/100]: loss_d: 1.086, loss_g: 1.224\n",
      "[49/100]: loss_d: 1.084, loss_g: 1.231\n",
      "[50/100]: loss_d: 1.091, loss_g: 1.232\n",
      "[51/100]: loss_d: 1.104, loss_g: 1.194\n",
      "[52/100]: loss_d: 1.103, loss_g: 1.208\n",
      "[53/100]: loss_d: 1.105, loss_g: 1.185\n",
      "[54/100]: loss_d: 1.098, loss_g: 1.204\n",
      "[55/100]: loss_d: 1.119, loss_g: 1.163\n",
      "[56/100]: loss_d: 1.131, loss_g: 1.139\n",
      "[57/100]: loss_d: 1.145, loss_g: 1.117\n",
      "[58/100]: loss_d: 1.132, loss_g: 1.156\n",
      "[59/100]: loss_d: 1.147, loss_g: 1.121\n",
      "[60/100]: loss_d: 1.152, loss_g: 1.108\n",
      "[61/100]: loss_d: 1.138, loss_g: 1.130\n",
      "[62/100]: loss_d: 1.143, loss_g: 1.139\n",
      "[63/100]: loss_d: 1.147, loss_g: 1.108\n",
      "[64/100]: loss_d: 1.162, loss_g: 1.082\n",
      "[65/100]: loss_d: 1.151, loss_g: 1.116\n",
      "[66/100]: loss_d: 1.156, loss_g: 1.102\n",
      "[67/100]: loss_d: 1.154, loss_g: 1.099\n",
      "[68/100]: loss_d: 1.169, loss_g: 1.082\n",
      "[69/100]: loss_d: 1.164, loss_g: 1.094\n",
      "[70/100]: loss_d: 1.156, loss_g: 1.109\n",
      "[71/100]: loss_d: 1.168, loss_g: 1.077\n",
      "[72/100]: loss_d: 1.174, loss_g: 1.087\n",
      "[73/100]: loss_d: 1.170, loss_g: 1.063\n",
      "[74/100]: loss_d: 1.184, loss_g: 1.052\n",
      "[75/100]: loss_d: 1.183, loss_g: 1.055\n",
      "[76/100]: loss_d: 1.176, loss_g: 1.059\n",
      "[77/100]: loss_d: 1.185, loss_g: 1.053\n",
      "[78/100]: loss_d: 1.194, loss_g: 1.034\n",
      "[79/100]: loss_d: 1.185, loss_g: 1.054\n",
      "[80/100]: loss_d: 1.192, loss_g: 1.032\n",
      "[81/100]: loss_d: 1.204, loss_g: 1.030\n",
      "[82/100]: loss_d: 1.191, loss_g: 1.046\n",
      "[83/100]: loss_d: 1.203, loss_g: 1.023\n",
      "[84/100]: loss_d: 1.207, loss_g: 1.006\n",
      "[85/100]: loss_d: 1.206, loss_g: 1.021\n",
      "[86/100]: loss_d: 1.200, loss_g: 1.033\n",
      "[87/100]: loss_d: 1.204, loss_g: 1.014\n",
      "[88/100]: loss_d: 1.202, loss_g: 1.018\n",
      "[89/100]: loss_d: 1.201, loss_g: 1.027\n",
      "[90/100]: loss_d: 1.206, loss_g: 1.008\n",
      "[91/100]: loss_d: 1.221, loss_g: 1.001\n",
      "[92/100]: loss_d: 1.217, loss_g: 0.994\n",
      "[93/100]: loss_d: 1.208, loss_g: 1.016\n",
      "[94/100]: loss_d: 1.216, loss_g: 0.996\n",
      "[95/100]: loss_d: 1.215, loss_g: 0.992\n",
      "[96/100]: loss_d: 1.223, loss_g: 1.006\n",
      "[97/100]: loss_d: 1.215, loss_g: 0.999\n",
      "[98/100]: loss_d: 1.222, loss_g: 0.982\n",
      "[99/100]: loss_d: 1.233, loss_g: 0.961\n",
      "[100/100]: loss_d: 1.226, loss_g: 0.985\n"
     ]
    }
   ],
   "source": [
    "train_hist = {}\n",
    "train_hist['D_losses'] = []\n",
    "train_hist['G_losses'] = []\n",
    "\n",
    "for epoch in range(train_epoch):\n",
    "    D_losses = []\n",
    "    G_losses = []\n",
    "    for x, _ in train_loader_mnist:\n",
    "        # train discriminator D\n",
    "        D.zero_grad()\n",
    "        x = x.view(-1, 28 * 28)\n",
    "        mini_batch = x.size()[0]\n",
    "\n",
    "        y_real = torch.ones(mini_batch)\n",
    "        y_fake = torch.zeros(mini_batch)\n",
    "\n",
    "        x, y_real, y_fake = Variable(x.cuda()), Variable(y_real.cuda()), Variable(y_fake.cuda())\n",
    "        \n",
    "        D_x = D(x)\n",
    "        D_real_loss = criterion(D_x, y_real)\n",
    "        D_real_score = D_x\n",
    "\n",
    "        z = torch.randn((mini_batch, 100))\n",
    "        z = Variable(z.cuda())\n",
    "        G_z = G(z)\n",
    "\n",
    "        D_gz = D(G_z)\n",
    "        D_fake_loss = criterion(D_gz, y_fake)\n",
    "        D_fake_score = D_gz\n",
    "\n",
    "        D_train_loss = D_real_loss + D_fake_loss\n",
    "\n",
    "        D_train_loss.backward()\n",
    "        d_optimizer.step()\n",
    "\n",
    "        D_losses.append(D_train_loss.item())\n",
    "\n",
    "        # train generator G\n",
    "        G.zero_grad()\n",
    "\n",
    "        z = torch.randn((mini_batch, 100))\n",
    "        y = torch.ones(mini_batch)\n",
    "\n",
    "        z, y = Variable(z.cuda()), Variable(y.cuda())\n",
    "        G_z = G(z)\n",
    "        D_gz = D(G_z)\n",
    "        G_train_loss = criterion(D_gz, y)\n",
    "        G_train_loss.backward()\n",
    "        g_optimizer.step()\n",
    "\n",
    "        G_losses.append(G_train_loss.item())\n",
    "\n",
    "    print('[%d/%d]: loss_d: %.3f, loss_g: %.3f' % ((epoch + 1), train_epoch, torch.mean(torch.FloatTensor(D_losses)), torch.mean(torch.FloatTensor(G_losses))))\n",
    "          \n",
    "    train_hist['D_losses'].append(torch.mean(torch.FloatTensor(D_losses)))\n",
    "    train_hist['G_losses'].append(torch.mean(torch.FloatTensor(G_losses)))\n",
    "    \n",
    "    if ((1+epoch) % 10 == 0) | (epoch==0):\n",
    "        show_training_proc((epoch+1), img_size = 28, save=True, path='./result/mnist_GAN_result_{}.png'.format(epoch+1), isFix=False)\n",
    "        show_training_proc((epoch+1), img_size = 28, save=True, path='./result/mnist_GAN_result_fixed_{}.png'.format(epoch+1), isFix=True)\n",
    "          \n",
    "torch.save(G.state_dict(), './model/G_GAN_mnist.ckpt')\n",
    "torch.save(D.state_dict(), './model/D_GAN_mnist.ckpt')"
   ]
  },
  {
   "cell_type": "code",
   "execution_count": 155,
   "id": "registered-omaha",
   "metadata": {
    "execution": {
     "iopub.execute_input": "2021-08-20T09:51:42.982978Z",
     "iopub.status.busy": "2021-08-20T09:51:42.982832Z",
     "iopub.status.idle": "2021-08-20T09:51:43.102633Z",
     "shell.execute_reply": "2021-08-20T09:51:43.101870Z",
     "shell.execute_reply.started": "2021-08-20T09:51:42.982959Z"
    }
   },
   "outputs": [
    {
     "data": {
      "image/png": "[encoded data removed]",
      "text/plain": [
       "<Figure size 432x288 with 1 Axes>"
      ]
     },
     "metadata": {
      "needs_background": "light"
     },
     "output_type": "display_data"
    }
   ],
   "source": [
    "x = range(len(train_hist['D_losses']))\n",
    "\n",
    "y1 = train_hist['D_losses']\n",
    "y2 = train_hist['G_losses']\n",
    "\n",
    "plt.plot(x, y1, label='D_loss')\n",
    "plt.plot(x, y2, label='G_loss')\n",
    "\n",
    "plt.xlabel('Epoch')\n",
    "plt.ylabel('Loss')\n",
    "\n",
    "plt.legend(loc=4)\n",
    "plt.grid(True)\n",
    "plt.tight_layout()\n",
    "plt.show()"
   ]
  },
  {
   "cell_type": "markdown",
   "id": "happy-vietnamese",
   "metadata": {},
   "source": [
    "#### GAN for CIFAR10"
   ]
  },
  {
   "cell_type": "code",
   "execution_count": null,
   "id": "imported-quick",
   "metadata": {},
   "outputs": [],
   "source": []
  }
 ],
 "metadata": {
  "kernelspec": {
   "display_name": "Python 3",
   "language": "python",
   "name": "python3"
  },
  "language_info": {
   "codemirror_mode": {
    "name": "ipython",
    "version": 3
   },
   "file_extension": ".py",
   "mimetype": "text/x-python",
   "name": "python",
   "nbconvert_exporter": "python",
   "pygments_lexer": "ipython3",
   "version": "3.7.3"
  },
  "widgets": {
   "application/vnd.jupyter.widget-state+json": {
    "state": {
     "01480a4536d743639910db75ce69fbe8": {
      "model_module": "@jupyter-widgets/controls",
      "model_module_version": "1.5.0",
      "model_name": "HBoxModel",
      "state": {
       "children": [
        "IPY_MODEL_dec8d0e00ee444feaa6898e67fbc6b09",
        "IPY_MODEL_55754080736c4686a50a832c0c0778dd"
       ],
       "layout": "IPY_MODEL_a6263cd0470940c5934ca8aec21045be"
      }
     },
     "0bb5783e24a742148bcdb16c10bc795d": {
      "model_module": "@jupyter-widgets/controls",
      "model_module_version": "1.5.0",
      "model_name": "HTMLModel",
      "state": {
       "layout": "IPY_MODEL_1b8888176f1d4dbb93af0e944765bb21",
       "style": "IPY_MODEL_d3571fee1f984ad6a3ef1373c43787aa",
       "value": "32768/|/| 32768/? [00:00&lt;00:00, 54530.01it/s]"
      }
     },
     "0e23e2da5d6d4d5e8471e82186331bfd": {
      "model_module": "@jupyter-widgets/controls",
      "model_module_version": "1.5.0",
      "model_name": "IntProgressModel",
      "state": {
       "bar_style": "info",
       "layout": "IPY_MODEL_f1813a7d110349b8834c8529d0e6641c",
       "max": 1,
       "style": "IPY_MODEL_de46dd48c57a4d2fad922beac74303a6",
       "value": 1
      }
     },
     "10f34ac6efd2466c90be3d588575f532": {
      "model_module": "@jupyter-widgets/controls",
      "model_module_version": "1.5.0",
      "model_name": "IntProgressModel",
      "state": {
       "bar_style": "success",
       "layout": "IPY_MODEL_5409c3be105f40c19a92a0a0a1641d94",
       "max": 1,
       "style": "IPY_MODEL_e8f307345fad429f9cb21f03cf158d0b",
       "value": 1
      }
     },
     "12daf2c9c2cd4195a73e9873c78c5dc9": {
      "model_module": "@jupyter-widgets/controls",
      "model_module_version": "1.5.0",
      "model_name": "ProgressStyleModel",
      "state": {
       "description_width": ""
      }
     },
     "16cf6ea19f5f46fc9a55949370b91ec1": {
      "model_module": "@jupyter-widgets/controls",
      "model_module_version": "1.5.0",
      "model_name": "DescriptionStyleModel",
      "state": {
       "description_width": ""
      }
     },
     "17ea2e07fcbb437b9f833ac058ce1d27": {
      "model_module": "@jupyter-widgets/controls",
      "model_module_version": "1.5.0",
      "model_name": "ProgressStyleModel",
      "state": {
       "description_width": ""
      }
     },
     "1b8888176f1d4dbb93af0e944765bb21": {
      "model_module": "@jupyter-widgets/base",
      "model_module_version": "1.2.0",
      "model_name": "LayoutModel",
      "state": {}
     },
     "2b11b2a2e76e41b9bda49982075f0f49": {
      "model_module": "@jupyter-widgets/base",
      "model_module_version": "1.2.0",
      "model_name": "LayoutModel",
      "state": {}
     },
     "2d73d74262e74221b90350bd0e4a04dd": {
      "model_module": "@jupyter-widgets/base",
      "model_module_version": "1.2.0",
      "model_name": "LayoutModel",
      "state": {}
     },
     "34efe36e5c674fcd8fc57a7bcdfc2b89": {
      "model_module": "@jupyter-widgets/controls",
      "model_module_version": "1.5.0",
      "model_name": "DescriptionStyleModel",
      "state": {
       "description_width": ""
      }
     },
     "43d0b22937dd4f7b97ab5f52ac05c670": {
      "model_module": "@jupyter-widgets/base",
      "model_module_version": "1.2.0",
      "model_name": "LayoutModel",
      "state": {}
     },
     "4b18abd2294d436aabfbf4166091804e": {
      "model_module": "@jupyter-widgets/controls",
      "model_module_version": "1.5.0",
      "model_name": "HTMLModel",
      "state": {
       "layout": "IPY_MODEL_2b11b2a2e76e41b9bda49982075f0f49",
       "style": "IPY_MODEL_34efe36e5c674fcd8fc57a7bcdfc2b89",
       "value": "170500096/|/| 170500096/? [00:43&lt;00:00, 7872365.44it/s]"
      }
     },
     "4c34b27e332f4cd297deb9b3121b1ee4": {
      "model_module": "@jupyter-widgets/base",
      "model_module_version": "1.2.0",
      "model_name": "LayoutModel",
      "state": {}
     },
     "5409c3be105f40c19a92a0a0a1641d94": {
      "model_module": "@jupyter-widgets/base",
      "model_module_version": "1.2.0",
      "model_name": "LayoutModel",
      "state": {}
     },
     "55754080736c4686a50a832c0c0778dd": {
      "model_module": "@jupyter-widgets/controls",
      "model_module_version": "1.5.0",
      "model_name": "HTMLModel",
      "state": {
       "layout": "IPY_MODEL_43d0b22937dd4f7b97ab5f52ac05c670",
       "style": "IPY_MODEL_16cf6ea19f5f46fc9a55949370b91ec1",
       "value": "1654784/|/| 1654784/? [01:02&lt;00:00, 42672.20it/s]"
      }
     },
     "57488332ea8e4cdd97a883cd89c41d4d": {
      "model_module": "@jupyter-widgets/controls",
      "model_module_version": "1.5.0",
      "model_name": "HBoxModel",
      "state": {
       "children": [
        "IPY_MODEL_0e23e2da5d6d4d5e8471e82186331bfd",
        "IPY_MODEL_82b9338c52b7443c82d779428070bc17"
       ],
       "layout": "IPY_MODEL_80bbbc6d712f4ecbbb7627b88ff1f55b"
      }
     },
     "5ae290c81ab14eac81c11031ac26d51e": {
      "model_module": "@jupyter-widgets/controls",
      "model_module_version": "1.5.0",
      "model_name": "HBoxModel",
      "state": {
       "children": [
        "IPY_MODEL_10f34ac6efd2466c90be3d588575f532",
        "IPY_MODEL_0bb5783e24a742148bcdb16c10bc795d"
       ],
       "layout": "IPY_MODEL_c78a06d922924e03a53f05c74d4dda88"
      }
     },
     "5ba69c636fb141f4b20e58d0474af2c9": {
      "model_module": "@jupyter-widgets/base",
      "model_module_version": "1.2.0",
      "model_name": "LayoutModel",
      "state": {}
     },
     "72b5057304354e0199926e71451d00aa": {
      "model_module": "@jupyter-widgets/base",
      "model_module_version": "1.2.0",
      "model_name": "LayoutModel",
      "state": {}
     },
     "79aeaabf69ab49609c08667196b9f714": {
      "model_module": "@jupyter-widgets/controls",
      "model_module_version": "1.5.0",
      "model_name": "IntProgressModel",
      "state": {
       "bar_style": "info",
       "layout": "IPY_MODEL_72b5057304354e0199926e71451d00aa",
       "max": 1,
       "style": "IPY_MODEL_8bea67352c1547ab82e40696e9fba931",
       "value": 1
      }
     },
     "80bbbc6d712f4ecbbb7627b88ff1f55b": {
      "model_module": "@jupyter-widgets/base",
      "model_module_version": "1.2.0",
      "model_name": "LayoutModel",
      "state": {}
     },
     "82b9338c52b7443c82d779428070bc17": {
      "model_module": "@jupyter-widgets/controls",
      "model_module_version": "1.5.0",
      "model_name": "HTMLModel",
      "state": {
       "layout": "IPY_MODEL_a368d96ed0bc4d4ca9d8507c91627183",
       "style": "IPY_MODEL_a234fbc0bbe0497abbe0ab85936f36de",
       "value": "9920512/|/| 9920512/? [04:50&lt;00:00, 35482.33it/s]"
      }
     },
     "86664a0568814e3496eae863dbc86bcc": {
      "model_module": "@jupyter-widgets/base",
      "model_module_version": "1.2.0",
      "model_name": "LayoutModel",
      "state": {}
     },
     "88816d4b54b3461bbab3d95b94cf31d4": {
      "model_module": "@jupyter-widgets/controls",
      "model_module_version": "1.5.0",
      "model_name": "IntProgressModel",
      "state": {
       "bar_style": "success",
       "layout": "IPY_MODEL_be1917aa09514e01b6857ee002ac61f6",
       "max": 1,
       "style": "IPY_MODEL_17ea2e07fcbb437b9f833ac058ce1d27",
       "value": 1
      }
     },
     "8bea67352c1547ab82e40696e9fba931": {
      "model_module": "@jupyter-widgets/controls",
      "model_module_version": "1.5.0",
      "model_name": "ProgressStyleModel",
      "state": {
       "description_width": ""
      }
     },
     "8d70f47a35ce44ecaa99256c65ec2348": {
      "model_module": "@jupyter-widgets/controls",
      "model_module_version": "1.5.0",
      "model_name": "HBoxModel",
      "state": {
       "children": [
        "IPY_MODEL_88816d4b54b3461bbab3d95b94cf31d4",
        "IPY_MODEL_d63c672e056f47068debc9cc3b786743"
       ],
       "layout": "IPY_MODEL_86664a0568814e3496eae863dbc86bcc"
      }
     },
     "a234fbc0bbe0497abbe0ab85936f36de": {
      "model_module": "@jupyter-widgets/controls",
      "model_module_version": "1.5.0",
      "model_name": "DescriptionStyleModel",
      "state": {
       "description_width": ""
      }
     },
     "a368d96ed0bc4d4ca9d8507c91627183": {
      "model_module": "@jupyter-widgets/base",
      "model_module_version": "1.2.0",
      "model_name": "LayoutModel",
      "state": {}
     },
     "a6263cd0470940c5934ca8aec21045be": {
      "model_module": "@jupyter-widgets/base",
      "model_module_version": "1.2.0",
      "model_name": "LayoutModel",
      "state": {}
     },
     "aa3c63cfa7d64192a1b4b5c7af2c31ce": {
      "model_module": "@jupyter-widgets/controls",
      "model_module_version": "1.5.0",
      "model_name": "HBoxModel",
      "state": {
       "children": [
        "IPY_MODEL_79aeaabf69ab49609c08667196b9f714",
        "IPY_MODEL_4b18abd2294d436aabfbf4166091804e"
       ],
       "layout": "IPY_MODEL_5ba69c636fb141f4b20e58d0474af2c9"
      }
     },
     "be1917aa09514e01b6857ee002ac61f6": {
      "model_module": "@jupyter-widgets/base",
      "model_module_version": "1.2.0",
      "model_name": "LayoutModel",
      "state": {}
     },
     "c78a06d922924e03a53f05c74d4dda88": {
      "model_module": "@jupyter-widgets/base",
      "model_module_version": "1.2.0",
      "model_name": "LayoutModel",
      "state": {}
     },
     "c7bd6d040f0f47e7863f068f286da32c": {
      "model_module": "@jupyter-widgets/controls",
      "model_module_version": "1.5.0",
      "model_name": "DescriptionStyleModel",
      "state": {
       "description_width": ""
      }
     },
     "d3571fee1f984ad6a3ef1373c43787aa": {
      "model_module": "@jupyter-widgets/controls",
      "model_module_version": "1.5.0",
      "model_name": "DescriptionStyleModel",
      "state": {
       "description_width": ""
      }
     },
     "d63c672e056f47068debc9cc3b786743": {
      "model_module": "@jupyter-widgets/controls",
      "model_module_version": "1.5.0",
      "model_name": "HTMLModel",
      "state": {
       "layout": "IPY_MODEL_2d73d74262e74221b90350bd0e4a04dd",
       "style": "IPY_MODEL_c7bd6d040f0f47e7863f068f286da32c",
       "value": "8192/|/| 8192/? [00:00&lt;00:00, 18954.38it/s]"
      }
     },
     "de46dd48c57a4d2fad922beac74303a6": {
      "model_module": "@jupyter-widgets/controls",
      "model_module_version": "1.5.0",
      "model_name": "ProgressStyleModel",
      "state": {
       "description_width": ""
      }
     },
     "dec8d0e00ee444feaa6898e67fbc6b09": {
      "model_module": "@jupyter-widgets/controls",
      "model_module_version": "1.5.0",
      "model_name": "IntProgressModel",
      "state": {
       "bar_style": "info",
       "layout": "IPY_MODEL_4c34b27e332f4cd297deb9b3121b1ee4",
       "max": 1,
       "style": "IPY_MODEL_12daf2c9c2cd4195a73e9873c78c5dc9",
       "value": 1
      }
     },
     "e8f307345fad429f9cb21f03cf158d0b": {
      "model_module": "@jupyter-widgets/controls",
      "model_module_version": "1.5.0",
      "model_name": "ProgressStyleModel",
      "state": {
       "description_width": ""
      }
     },
     "f1813a7d110349b8834c8529d0e6641c": {
      "model_module": "@jupyter-widgets/base",
      "model_module_version": "1.2.0",
      "model_name": "LayoutModel",
      "state": {}
     }
    },
    "version_major": 2,
    "version_minor": 0
   }
  }
 },
 "nbformat": 4,
 "nbformat_minor": 5
}
