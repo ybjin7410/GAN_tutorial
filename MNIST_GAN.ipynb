{
 "cells": [
  {
   "cell_type": "markdown",
   "id": "accepted-thumbnail",
   "metadata": {},
   "source": [
    "# Index\n",
    "1. Load libraries & Setting\n",
    "2. MNIST dataset downlad\n",
    "3. Model construction (___G___, ___D___)\n",
    "4. Model training\n"
   ]
  },
  {
   "cell_type": "markdown",
   "id": "proud-courage",
   "metadata": {},
   "source": [
    "## Load libraries & Setting"
   ]
  },
  {
   "cell_type": "code",
   "execution_count": 1,
   "id": "checked-collectible",
   "metadata": {
    "execution": {
     "iopub.execute_input": "2021-08-22T08:21:55.091998Z",
     "iopub.status.busy": "2021-08-22T08:21:55.091874Z",
     "iopub.status.idle": "2021-08-22T08:21:55.920512Z",
     "shell.execute_reply": "2021-08-22T08:21:55.918947Z",
     "shell.execute_reply.started": "2021-08-22T08:21:55.091981Z"
    },
    "tags": []
   },
   "outputs": [],
   "source": [
    "import os\n",
    "import random\n",
    "import numpy as np\n",
    "import pandas as pd\n",
    "import matplotlib\n",
    "import matplotlib.pyplot as plt\n",
    "\n",
    "import torch\n",
    "import torch.nn as nn\n",
    "import torch.optim as optim\n",
    "import torch.nn.functional as F\n",
    "from torch.autograd import Variable\n",
    "\n",
    "import torchvision\n",
    "from torchvision import datasets, transforms"
   ]
  },
  {
   "cell_type": "code",
   "execution_count": 2,
   "id": "harmful-terror",
   "metadata": {
    "execution": {
     "iopub.execute_input": "2021-08-22T08:21:55.921461Z",
     "iopub.status.busy": "2021-08-22T08:21:55.921310Z",
     "iopub.status.idle": "2021-08-22T08:21:55.929916Z",
     "shell.execute_reply": "2021-08-22T08:21:55.929164Z",
     "shell.execute_reply.started": "2021-08-22T08:21:55.921444Z"
    },
    "tags": []
   },
   "outputs": [
    {
     "data": {
      "text/plain": [
       "<torch._C.Generator at 0x7f4a4c051110>"
      ]
     },
     "execution_count": 2,
     "metadata": {},
     "output_type": "execute_result"
    }
   ],
   "source": [
    "# Randomness control for Reproducibility\n",
    "seed = 123\n",
    "\n",
    "random.seed(seed)\n",
    "np.random.seed(seed)\n",
    "torch.cuda.manual_seed(seed)\n",
    "torch.cuda.manual_seed_all(seed) #if use multi-GPU\n",
    "torch.manual_seed(seed)"
   ]
  },
  {
   "cell_type": "code",
   "execution_count": 3,
   "id": "divine-symposium",
   "metadata": {
    "execution": {
     "iopub.execute_input": "2021-08-22T08:21:55.930733Z",
     "iopub.status.busy": "2021-08-22T08:21:55.930603Z",
     "iopub.status.idle": "2021-08-22T08:21:57.512450Z",
     "shell.execute_reply": "2021-08-22T08:21:57.511389Z",
     "shell.execute_reply.started": "2021-08-22T08:21:55.930718Z"
    },
    "tags": []
   },
   "outputs": [
    {
     "name": "stdout",
     "output_type": "stream",
     "text": [
      "cuda\n"
     ]
    }
   ],
   "source": [
    "# device setting\n",
    "device = torch.device('cuda' if torch.cuda.is_available() else 'cpu')\n",
    "print(device)"
   ]
  },
  {
   "cell_type": "markdown",
   "id": "quarterly-blair",
   "metadata": {},
   "source": [
    "## MNIST dataset downlad\n",
    "* batch_size : 배치 사이즈 설정"
   ]
  },
  {
   "cell_type": "code",
   "execution_count": 4,
   "id": "expensive-cooperation",
   "metadata": {
    "execution": {
     "iopub.execute_input": "2021-08-22T08:21:57.514015Z",
     "iopub.status.busy": "2021-08-22T08:21:57.513762Z",
     "iopub.status.idle": "2021-08-22T08:21:57.564522Z",
     "shell.execute_reply": "2021-08-22T08:21:57.563630Z",
     "shell.execute_reply.started": "2021-08-22T08:21:57.513985Z"
    },
    "tags": []
   },
   "outputs": [],
   "source": [
    "batch_size = 128\n",
    "\n",
    "# MNIST dataset\n",
    "transforms_mnist = transforms.Compose([transforms.ToTensor(),\n",
    "                                                transforms.Normalize(mean=(0.5, ), std=(0.5, ))])\n",
    "\n",
    "train_loader_mnist = torch.utils.data.DataLoader(datasets.MNIST('data', train=True, download=True, transform=transforms_mnist),\n",
    "                                           batch_size=batch_size, shuffle=True)"
   ]
  },
  {
   "cell_type": "code",
   "execution_count": 5,
   "id": "specific-anderson",
   "metadata": {
    "execution": {
     "iopub.execute_input": "2021-08-22T08:21:57.566369Z",
     "iopub.status.busy": "2021-08-22T08:21:57.566214Z",
     "iopub.status.idle": "2021-08-22T08:21:57.650499Z",
     "shell.execute_reply": "2021-08-22T08:21:57.649483Z",
     "shell.execute_reply.started": "2021-08-22T08:21:57.566352Z"
    },
    "tags": []
   },
   "outputs": [
    {
     "name": "stdout",
     "output_type": "stream",
     "text": [
      "torch.Size([128, 1, 28, 28])\n",
      "torch.Size([128])\n"
     ]
    }
   ],
   "source": [
    "image, label=iter(train_loader_mnist).next()\n",
    "\n",
    "print(image.shape)\n",
    "print(label.shape)"
   ]
  },
  {
   "cell_type": "code",
   "execution_count": 6,
   "id": "substantial-concentration",
   "metadata": {
    "execution": {
     "iopub.execute_input": "2021-08-22T08:21:57.652448Z",
     "iopub.status.busy": "2021-08-22T08:21:57.652290Z",
     "iopub.status.idle": "2021-08-22T08:21:57.747368Z",
     "shell.execute_reply": "2021-08-22T08:21:57.746468Z",
     "shell.execute_reply.started": "2021-08-22T08:21:57.652430Z"
    },
    "tags": []
   },
   "outputs": [
    {
     "data": {
      "image/png": "[encoded data removed]",
      "text/plain": [
       "<Figure size 1152x144 with 1 Axes>"
      ]
     },
     "metadata": {
      "needs_background": "light"
     },
     "output_type": "display_data"
    }
   ],
   "source": [
    "plt.figure(figsize= (16, 2))\n",
    "plt.imshow(torchvision.utils.make_grid(image[:8], normalize = True).permute(1, 2, 0))\n",
    "plt.title(label[:8])\n",
    "plt.show()"
   ]
  },
  {
   "cell_type": "markdown",
   "id": "elementary-patrol",
   "metadata": {},
   "source": [
    "## Model construction (___G___, ___D___)"
   ]
  },
  {
   "cell_type": "code",
   "execution_count": 7,
   "id": "supreme-jersey",
   "metadata": {
    "execution": {
     "iopub.execute_input": "2021-08-22T08:21:57.748281Z",
     "iopub.status.busy": "2021-08-22T08:21:57.748144Z",
     "iopub.status.idle": "2021-08-22T08:21:57.756180Z",
     "shell.execute_reply": "2021-08-22T08:21:57.755378Z",
     "shell.execute_reply.started": "2021-08-22T08:21:57.748265Z"
    },
    "tags": []
   },
   "outputs": [],
   "source": [
    "class generator(nn.Module):\n",
    "    # initializers\n",
    "    def __init__(self, input_size=100, n_class = 28*28):\n",
    "        super(generator, self).__init__()\n",
    "        self.fc1 = nn.Linear(input_size, 256)\n",
    "        self.fc2 = nn.Linear(256, 512)\n",
    "        self.fc3 = nn.Linear(512, 1024)\n",
    "        self.fc4 = nn.Linear(1024, n_class)\n",
    "\n",
    "    # forward method\n",
    "    def forward(self, inputs):\n",
    "        x = inputs.view(inputs.size(0), 100)  \n",
    "        x = F.leaky_relu(self.fc1(x), 0.2)\n",
    "        x = F.leaky_relu(self.fc2(x), 0.2)\n",
    "        x = F.leaky_relu(self.fc3(x), 0.2)\n",
    "        x = F.tanh(self.fc4(x))\n",
    "        return x\n",
    "\n",
    "class discriminator(nn.Module):\n",
    "    # initializers\n",
    "    def __init__(self, input_size=28*28, n_class=1):\n",
    "        super(discriminator, self).__init__()\n",
    "        self.fc1 = nn.Linear(input_size, 1024)\n",
    "        self.fc2 = nn.Linear(1024, 512)\n",
    "        self.fc3 = nn.Linear(512, 256)\n",
    "        self.fc4 = nn.Linear(256, n_class)\n",
    "\n",
    "    # forward method\n",
    "    def forward(self, inputs):\n",
    "        x = F.leaky_relu(self.fc1(inputs), 0.2)\n",
    "        x = F.dropout(x, 0.3)\n",
    "        x = F.leaky_relu(self.fc2(x), 0.2)\n",
    "        x = F.dropout(x, 0.3)\n",
    "        x = F.leaky_relu(self.fc3(x), 0.2)\n",
    "        x = F.dropout(x, 0.3)\n",
    "        x = F.sigmoid(self.fc4(x))\n",
    "        x = x.view(x.size(0), -1)\n",
    "        return x"
   ]
  },
  {
   "cell_type": "markdown",
   "id": "quiet-relay",
   "metadata": {},
   "source": [
    "## Model training\n",
    "* lr : 학습률(learning rate)\n",
    "* train_epoch : 반복 횟수"
   ]
  },
  {
   "cell_type": "code",
   "execution_count": 8,
   "id": "assured-dominican",
   "metadata": {
    "execution": {
     "iopub.execute_input": "2021-08-22T08:21:57.757012Z",
     "iopub.status.busy": "2021-08-22T08:21:57.756882Z",
     "iopub.status.idle": "2021-08-22T08:21:57.767274Z",
     "shell.execute_reply": "2021-08-22T08:21:57.766413Z",
     "shell.execute_reply.started": "2021-08-22T08:21:57.756997Z"
    },
    "tags": []
   },
   "outputs": [],
   "source": [
    "lr = 0.0002\n",
    "train_epoch = 50"
   ]
  },
  {
   "cell_type": "code",
   "execution_count": 9,
   "id": "photographic-surface",
   "metadata": {
    "execution": {
     "iopub.execute_input": "2021-08-22T08:21:57.768200Z",
     "iopub.status.busy": "2021-08-22T08:21:57.768039Z",
     "iopub.status.idle": "2021-08-22T08:22:03.523883Z",
     "shell.execute_reply": "2021-08-22T08:22:03.522533Z",
     "shell.execute_reply.started": "2021-08-22T08:21:57.768181Z"
    },
    "tags": []
   },
   "outputs": [],
   "source": [
    "G = generator(input_size=100, n_class=28*28).to(device)\n",
    "D = discriminator(input_size=28*28, n_class=1).to(device)\n",
    "\n",
    "criterion = nn.BCELoss()\n",
    "\n",
    "g_optimizer = optim.Adam(G.parameters(), lr=lr)\n",
    "d_optimizer = optim.Adam(D.parameters(), lr=lr)"
   ]
  },
  {
   "cell_type": "code",
   "execution_count": 10,
   "id": "looking-carol",
   "metadata": {
    "execution": {
     "iopub.execute_input": "2021-08-22T08:22:03.525725Z",
     "iopub.status.busy": "2021-08-22T08:22:03.525519Z",
     "iopub.status.idle": "2021-08-22T08:22:03.532980Z",
     "shell.execute_reply": "2021-08-22T08:22:03.532228Z",
     "shell.execute_reply.started": "2021-08-22T08:22:03.525695Z"
    },
    "tags": []
   },
   "outputs": [
    {
     "data": {
      "text/plain": [
       "torch.Size([25, 100])"
      ]
     },
     "execution_count": 10,
     "metadata": {},
     "output_type": "execute_result"
    }
   ],
   "source": [
    "if not os.path.exists('./model'):\n",
    "    os.makedirs('./model')\n",
    "if not os.path.exists('./result/mnist_gan'):\n",
    "    os.makedirs('./result/mnist_gan')\n",
    "\n",
    "# fixed noise for training checks\n",
    "fixed_z = torch.randn((5*5, 100))    \n",
    "with torch.no_grad():\n",
    "    fixed_z = Variable(fixed_z.cuda())\n",
    "fixed_z.shape"
   ]
  },
  {
   "cell_type": "code",
   "execution_count": 11,
   "id": "suspended-timing",
   "metadata": {
    "execution": {
     "iopub.execute_input": "2021-08-22T08:22:03.533804Z",
     "iopub.status.busy": "2021-08-22T08:22:03.533668Z",
     "iopub.status.idle": "2021-08-22T08:22:03.542441Z",
     "shell.execute_reply": "2021-08-22T08:22:03.541669Z",
     "shell.execute_reply.started": "2021-08-22T08:22:03.533789Z"
    },
    "tags": []
   },
   "outputs": [],
   "source": [
    "def show_training_proc(num_epoch, img_size, nc = 1, show = False, save = False, path = 'result.png', isFix=False):\n",
    "    z = torch.randn(5*5, 100)\n",
    "    with torch.no_grad():\n",
    "        z = Variable(z.cuda())\n",
    "\n",
    "    G.eval()\n",
    "    if isFix:\n",
    "        test_images = G(fixed_z)\n",
    "    else:\n",
    "        test_images = G(z)\n",
    "    G.train()\n",
    "    \n",
    "    if nc ==1:\n",
    "        plt.imshow(torchvision.utils.make_grid(test_images.data.view(-1,img_size, img_size).unsqueeze(1).detach().cpu(), normalize = True, nrow = 5).permute(1,2,0), cmap='gray')\n",
    "    else:\n",
    "        plt.imshow(torchvision.utils.make_grid(test_images.data.view(-1,nc, img_size, img_size).detach().cpu(), normalize = True, nrow = 5).permute(1,2,0), cmap='gray')\n",
    "       \n",
    "    label = 'Epoch {0}'.format(num_epoch)\n",
    "    plt.title(label)\n",
    "    plt.savefig(path)\n",
    "\n",
    "    if show:\n",
    "        plt.show()\n",
    "    else:\n",
    "        plt.close()"
   ]
  },
  {
   "cell_type": "code",
   "execution_count": 12,
   "id": "exposed-functionality",
   "metadata": {
    "execution": {
     "iopub.execute_input": "2021-08-22T08:22:03.543249Z",
     "iopub.status.busy": "2021-08-22T08:22:03.543118Z",
     "iopub.status.idle": "2021-08-22T08:34:48.735025Z",
     "shell.execute_reply": "2021-08-22T08:34:48.734140Z",
     "shell.execute_reply.started": "2021-08-22T08:22:03.543235Z"
    },
    "tags": []
   },
   "outputs": [
    {
     "name": "stderr",
     "output_type": "stream",
     "text": [
      "/opt/tljh/user/lib/python3.7/site-packages/torch/nn/functional.py:1351: UserWarning: nn.functional.sigmoid is deprecated. Use torch.sigmoid instead.\n",
      "  warnings.warn(\"nn.functional.sigmoid is deprecated. Use torch.sigmoid instead.\")\n",
      "/opt/tljh/user/lib/python3.7/site-packages/torch/nn/modules/loss.py:498: UserWarning: Using a target size (torch.Size([128])) that is different to the input size (torch.Size([128, 1])) is deprecated. Please ensure they have the same size.\n",
      "  return F.binary_cross_entropy(input, target, weight=self.weight, reduction=self.reduction)\n",
      "/opt/tljh/user/lib/python3.7/site-packages/torch/nn/functional.py:1340: UserWarning: nn.functional.tanh is deprecated. Use torch.tanh instead.\n",
      "  warnings.warn(\"nn.functional.tanh is deprecated. Use torch.tanh instead.\")\n",
      "/opt/tljh/user/lib/python3.7/site-packages/torch/nn/modules/loss.py:498: UserWarning: Using a target size (torch.Size([96])) that is different to the input size (torch.Size([96, 1])) is deprecated. Please ensure they have the same size.\n",
      "  return F.binary_cross_entropy(input, target, weight=self.weight, reduction=self.reduction)\n"
     ]
    },
    {
     "name": "stdout",
     "output_type": "stream",
     "text": [
      "[1/50]: loss_d: 0.938, loss_g: 3.085\n",
      "[2/50]: loss_d: 1.100, loss_g: 1.755\n",
      "[3/50]: loss_d: 0.934, loss_g: 1.835\n",
      "[4/50]: loss_d: 0.756, loss_g: 2.542\n",
      "[5/50]: loss_d: 0.540, loss_g: 2.843\n",
      "[6/50]: loss_d: 0.542, loss_g: 2.936\n",
      "[7/50]: loss_d: 0.441, loss_g: 3.115\n",
      "[8/50]: loss_d: 0.467, loss_g: 3.214\n",
      "[9/50]: loss_d: 0.551, loss_g: 2.865\n",
      "[10/50]: loss_d: 0.466, loss_g: 3.064\n",
      "[11/50]: loss_d: 0.546, loss_g: 2.899\n",
      "[12/50]: loss_d: 0.567, loss_g: 2.681\n",
      "[13/50]: loss_d: 0.626, loss_g: 2.459\n",
      "[14/50]: loss_d: 0.570, loss_g: 2.665\n",
      "[15/50]: loss_d: 0.630, loss_g: 2.415\n",
      "[16/50]: loss_d: 0.714, loss_g: 2.188\n",
      "[17/50]: loss_d: 0.696, loss_g: 2.173\n",
      "[18/50]: loss_d: 0.744, loss_g: 2.105\n",
      "[19/50]: loss_d: 0.807, loss_g: 1.913\n",
      "[20/50]: loss_d: 0.792, loss_g: 2.048\n",
      "[21/50]: loss_d: 0.824, loss_g: 1.862\n",
      "[22/50]: loss_d: 0.807, loss_g: 1.900\n",
      "[23/50]: loss_d: 0.770, loss_g: 1.992\n",
      "[24/50]: loss_d: 0.795, loss_g: 1.899\n",
      "[25/50]: loss_d: 0.837, loss_g: 1.836\n",
      "[26/50]: loss_d: 0.873, loss_g: 1.715\n",
      "[27/50]: loss_d: 0.881, loss_g: 1.731\n",
      "[28/50]: loss_d: 0.889, loss_g: 1.696\n",
      "[29/50]: loss_d: 0.899, loss_g: 1.690\n",
      "[30/50]: loss_d: 0.911, loss_g: 1.673\n",
      "[31/50]: loss_d: 0.906, loss_g: 1.643\n",
      "[32/50]: loss_d: 0.950, loss_g: 1.544\n",
      "[33/50]: loss_d: 0.926, loss_g: 1.594\n",
      "[34/50]: loss_d: 0.933, loss_g: 1.587\n",
      "[35/50]: loss_d: 0.910, loss_g: 1.631\n",
      "[36/50]: loss_d: 0.930, loss_g: 1.572\n",
      "[37/50]: loss_d: 0.946, loss_g: 1.544\n",
      "[38/50]: loss_d: 0.974, loss_g: 1.451\n",
      "[39/50]: loss_d: 1.010, loss_g: 1.426\n",
      "[40/50]: loss_d: 0.997, loss_g: 1.443\n",
      "[41/50]: loss_d: 1.018, loss_g: 1.393\n",
      "[42/50]: loss_d: 1.008, loss_g: 1.411\n",
      "[43/50]: loss_d: 1.044, loss_g: 1.339\n",
      "[44/50]: loss_d: 1.044, loss_g: 1.332\n",
      "[45/50]: loss_d: 1.063, loss_g: 1.282\n",
      "[46/50]: loss_d: 1.059, loss_g: 1.304\n",
      "[47/50]: loss_d: 1.071, loss_g: 1.276\n",
      "[48/50]: loss_d: 1.083, loss_g: 1.247\n",
      "[49/50]: loss_d: 1.086, loss_g: 1.249\n",
      "[50/50]: loss_d: 1.091, loss_g: 1.225\n"
     ]
    }
   ],
   "source": [
    "train_hist = {}\n",
    "train_hist['D_losses'] = []\n",
    "train_hist['G_losses'] = []\n",
    "\n",
    "for epoch in range(train_epoch):\n",
    "    D_losses = []\n",
    "    G_losses = []\n",
    "    for x, _ in train_loader_mnist:\n",
    "        # train discriminator D\n",
    "        D.zero_grad()\n",
    "        x = x.view(-1, 28 * 28)\n",
    "        mini_batch = x.size()[0]\n",
    "\n",
    "        y_real = torch.ones(mini_batch)\n",
    "        y_fake = torch.zeros(mini_batch)\n",
    "\n",
    "        x, y_real, y_fake = Variable(x.cuda()), Variable(y_real.cuda()), Variable(y_fake.cuda())\n",
    "        \n",
    "        D_x = D(x)\n",
    "        D_real_loss = criterion(D_x.squeeze(-1), y_real)\n",
    "        D_real_score = D_x\n",
    "\n",
    "        z = torch.randn((mini_batch, 100))\n",
    "        z = Variable(z.cuda())\n",
    "        G_z = G(z)\n",
    "\n",
    "        D_gz = D(G_z)\n",
    "        D_fake_loss = criterion(D_gz.squeeze(-1), y_fake)\n",
    "        D_fake_score = D_gz\n",
    "\n",
    "        D_train_loss = D_real_loss + D_fake_loss\n",
    "\n",
    "        D_train_loss.backward()\n",
    "        d_optimizer.step()\n",
    "\n",
    "        D_losses.append(D_train_loss.item())\n",
    "\n",
    "        # train generator G\n",
    "        G.zero_grad()\n",
    "\n",
    "        z = torch.randn((mini_batch, 100))\n",
    "        y = torch.ones(mini_batch)\n",
    "\n",
    "        z, y = Variable(z.cuda()), Variable(y.cuda())\n",
    "        G_z = G(z)\n",
    "        D_gz = D(G_z)\n",
    "        G_train_loss = criterion(D_gz.squeeze(-1), y)\n",
    "        G_train_loss.backward()\n",
    "        g_optimizer.step()\n",
    "\n",
    "        G_losses.append(G_train_loss.item())\n",
    "\n",
    "    print('[%d/%d]: loss_d: %.3f, loss_g: %.3f' % ((epoch + 1), train_epoch, torch.mean(torch.FloatTensor(D_losses)), torch.mean(torch.FloatTensor(G_losses))))\n",
    "          \n",
    "    train_hist['D_losses'].append(torch.mean(torch.FloatTensor(D_losses)))\n",
    "    train_hist['G_losses'].append(torch.mean(torch.FloatTensor(G_losses)))\n",
    "    \n",
    "    show_training_proc((epoch+1), img_size = 28, save=True, path='./result/mnist_gan/mnist_GAN_result_{0:03d}.png'.format(epoch+1), isFix=False)\n",
    "    show_training_proc((epoch+1), img_size = 28, save=True, path='./result/mnist_gan/mnist_GAN_result_fixed_{0:03d}.png'.format(epoch+1), isFix=True)\n",
    "          \n",
    "torch.save(G.state_dict(), './model/G_GAN_mnist.ckpt')\n",
    "torch.save(D.state_dict(), './model/D_GAN_mnist.ckpt')"
   ]
  },
  {
   "cell_type": "code",
   "execution_count": 13,
   "id": "threatened-wiring",
   "metadata": {
    "execution": {
     "iopub.execute_input": "2021-08-22T08:34:48.736192Z",
     "iopub.status.busy": "2021-08-22T08:34:48.736045Z",
     "iopub.status.idle": "2021-08-22T08:34:48.854808Z",
     "shell.execute_reply": "2021-08-22T08:34:48.854071Z",
     "shell.execute_reply.started": "2021-08-22T08:34:48.736173Z"
    },
    "tags": []
   },
   "outputs": [
    {
     "data": {
      "image/png": "[encoded data removed]",
      "text/plain": [
       "<Figure size 864x288 with 1 Axes>"
      ]
     },
     "metadata": {
      "needs_background": "light"
     },
     "output_type": "display_data"
    }
   ],
   "source": [
    "x = range(len(train_hist['D_losses']))\n",
    "\n",
    "y1 = train_hist['D_losses']\n",
    "y2 = train_hist['G_losses']\n",
    "plt.figure(figsize= (12,4))\n",
    "plt.plot(x, y1, label='D_loss')\n",
    "plt.plot(x, y2, label='G_loss')\n",
    "\n",
    "plt.xlabel('Epoch')\n",
    "plt.ylabel('Loss')\n",
    "\n",
    "plt.legend(loc=4)\n",
    "plt.grid(True)\n",
    "plt.tight_layout()\n",
    "plt.show()"
   ]
  }
 ],
 "metadata": {
  "kernelspec": {
   "display_name": "Python 3",
   "language": "python",
   "name": "python3"
  },
  "language_info": {
   "codemirror_mode": {
    "name": "ipython",
    "version": 3
   },
   "file_extension": ".py",
   "mimetype": "text/x-python",
   "name": "python",
   "nbconvert_exporter": "python",
   "pygments_lexer": "ipython3",
   "version": "3.7.3"
  },
  "widgets": {
   "application/vnd.jupyter.widget-state+json": {
    "state": {},
    "version_major": 2,
    "version_minor": 0
   }
  }
 },
 "nbformat": 4,
 "nbformat_minor": 5
}
