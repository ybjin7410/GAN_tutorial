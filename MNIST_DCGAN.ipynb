{
 "cells": [
  {
   "cell_type": "markdown",
   "id": "miniature-history",
   "metadata": {},
   "source": [
    "# Index\n",
    "1. Load libraries & Setting\n",
    "2. MNIST dataset downlad\n",
    "3. Model construction (___G___, ___D___)\n",
    "4. Model training\n"
   ]
  },
  {
   "cell_type": "markdown",
   "id": "convinced-policy",
   "metadata": {},
   "source": [
    "## Load libraries & Setting"
   ]
  },
  {
   "cell_type": "code",
   "execution_count": 1,
   "id": "ahead-mechanism",
   "metadata": {
    "execution": {
     "iopub.execute_input": "2021-08-22T08:23:06.763403Z",
     "iopub.status.busy": "2021-08-22T08:23:06.763279Z",
     "iopub.status.idle": "2021-08-22T08:23:07.514002Z",
     "shell.execute_reply": "2021-08-22T08:23:07.513276Z",
     "shell.execute_reply.started": "2021-08-22T08:23:06.763387Z"
    },
    "tags": []
   },
   "outputs": [],
   "source": [
    "import os\n",
    "import random\n",
    "import numpy as np\n",
    "import pandas as pd\n",
    "import matplotlib\n",
    "import matplotlib.pyplot as plt\n",
    "\n",
    "import torch\n",
    "import torch.nn as nn\n",
    "import torch.optim as optim\n",
    "import torch.nn.functional as F\n",
    "from torch.autograd import Variable\n",
    "\n",
    "import torchvision\n",
    "from torchvision import datasets, transforms"
   ]
  },
  {
   "cell_type": "code",
   "execution_count": 2,
   "id": "muslim-lunch",
   "metadata": {
    "execution": {
     "iopub.execute_input": "2021-08-22T08:23:07.514931Z",
     "iopub.status.busy": "2021-08-22T08:23:07.514795Z",
     "iopub.status.idle": "2021-08-22T08:23:07.521545Z",
     "shell.execute_reply": "2021-08-22T08:23:07.520999Z",
     "shell.execute_reply.started": "2021-08-22T08:23:07.514915Z"
    },
    "tags": []
   },
   "outputs": [
    {
     "data": {
      "text/plain": [
       "<torch._C.Generator at 0x7fa39695d370>"
      ]
     },
     "execution_count": 2,
     "metadata": {},
     "output_type": "execute_result"
    }
   ],
   "source": [
    "# Randomness control for Reproducibility\n",
    "seed = 123\n",
    "\n",
    "random.seed(seed)\n",
    "np.random.seed(seed)\n",
    "torch.cuda.manual_seed(seed)\n",
    "torch.cuda.manual_seed_all(seed) #if use multi-GPU\n",
    "torch.manual_seed(seed)"
   ]
  },
  {
   "cell_type": "code",
   "execution_count": 3,
   "id": "generic-double",
   "metadata": {
    "execution": {
     "iopub.execute_input": "2021-08-22T08:23:07.522334Z",
     "iopub.status.busy": "2021-08-22T08:23:07.522206Z",
     "iopub.status.idle": "2021-08-22T08:23:08.082184Z",
     "shell.execute_reply": "2021-08-22T08:23:08.081002Z",
     "shell.execute_reply.started": "2021-08-22T08:23:07.522319Z"
    },
    "tags": []
   },
   "outputs": [
    {
     "name": "stdout",
     "output_type": "stream",
     "text": [
      "cuda\n"
     ]
    }
   ],
   "source": [
    "# device setting\n",
    "device = torch.device('cuda' if torch.cuda.is_available() else 'cpu')\n",
    "print(device)"
   ]
  },
  {
   "cell_type": "markdown",
   "id": "potential-retreat",
   "metadata": {},
   "source": [
    "## MNIST dataset downlad\n",
    "* batch_size : 배치 사이즈 설정"
   ]
  },
  {
   "cell_type": "code",
   "execution_count": 4,
   "id": "light-holmes",
   "metadata": {
    "execution": {
     "iopub.execute_input": "2021-08-22T08:23:08.084652Z",
     "iopub.status.busy": "2021-08-22T08:23:08.084192Z",
     "iopub.status.idle": "2021-08-22T08:23:08.136352Z",
     "shell.execute_reply": "2021-08-22T08:23:08.135690Z",
     "shell.execute_reply.started": "2021-08-22T08:23:08.084597Z"
    },
    "tags": []
   },
   "outputs": [],
   "source": [
    "batch_size = 128\n",
    "\n",
    "# MNIST dataset\n",
    "transforms_mnist = transforms.Compose([transforms.ToTensor(),\n",
    "                                                transforms.Normalize(mean=(0.5,), std=(0.5,))])\n",
    "\n",
    "train_loader_mnist = torch.utils.data.DataLoader(datasets.MNIST('data', train=True, download=True, transform=transforms_mnist),\n",
    "                                           batch_size=batch_size, shuffle=True)"
   ]
  },
  {
   "cell_type": "code",
   "execution_count": 5,
   "id": "aerial-fancy",
   "metadata": {
    "execution": {
     "iopub.execute_input": "2021-08-22T08:23:08.137376Z",
     "iopub.status.busy": "2021-08-22T08:23:08.137208Z",
     "iopub.status.idle": "2021-08-22T08:23:08.162172Z",
     "shell.execute_reply": "2021-08-22T08:23:08.161637Z",
     "shell.execute_reply.started": "2021-08-22T08:23:08.137358Z"
    },
    "tags": []
   },
   "outputs": [
    {
     "name": "stdout",
     "output_type": "stream",
     "text": [
      "torch.Size([128, 1, 28, 28])\n",
      "torch.Size([128])\n"
     ]
    }
   ],
   "source": [
    "image, label=iter(train_loader_mnist).next()\n",
    "\n",
    "print(image.shape)\n",
    "print(label.shape)"
   ]
  },
  {
   "cell_type": "code",
   "execution_count": 6,
   "id": "acquired-liberia",
   "metadata": {
    "execution": {
     "iopub.execute_input": "2021-08-22T08:23:08.163669Z",
     "iopub.status.busy": "2021-08-22T08:23:08.163531Z",
     "iopub.status.idle": "2021-08-22T08:23:08.252350Z",
     "shell.execute_reply": "2021-08-22T08:23:08.251808Z",
     "shell.execute_reply.started": "2021-08-22T08:23:08.163653Z"
    }
   },
   "outputs": [
    {
     "data": {
      "image/png": "[encoded data removed]",
      "text/plain": [
       "<Figure size 1152x144 with 1 Axes>"
      ]
     },
     "metadata": {
      "needs_background": "light"
     },
     "output_type": "display_data"
    }
   ],
   "source": [
    "plt.figure(figsize= (16,2))\n",
    "plt.imshow(torchvision.utils.make_grid(image[:8], normalize = True).permute(1,2,0))\n",
    "plt.title(label[:8])\n",
    "plt.show()"
   ]
  },
  {
   "cell_type": "markdown",
   "id": "assumed-offense",
   "metadata": {},
   "source": [
    "## Model construction (___G___, ___D___)"
   ]
  },
  {
   "cell_type": "code",
   "execution_count": 7,
   "id": "valid-butter",
   "metadata": {
    "execution": {
     "iopub.execute_input": "2021-08-22T08:23:08.253495Z",
     "iopub.status.busy": "2021-08-22T08:23:08.253360Z",
     "iopub.status.idle": "2021-08-22T08:23:08.260746Z",
     "shell.execute_reply": "2021-08-22T08:23:08.260237Z",
     "shell.execute_reply.started": "2021-08-22T08:23:08.253479Z"
    },
    "tags": []
   },
   "outputs": [],
   "source": [
    "class generator(nn.Module):\n",
    "    def __init__(self, nc, nz, ngf):\n",
    "        super(generator, self).__init__()\n",
    "        self.network = nn.Sequential(\n",
    "          nn.ConvTranspose2d(nz, ngf*4, 4, 1, 0, bias=False),\n",
    "          nn.BatchNorm2d(ngf*4),\n",
    "          nn.ReLU(True),\n",
    "  \n",
    "          nn.ConvTranspose2d(ngf*4, ngf*2, 3, 2, 1, bias=False),\n",
    "          nn.BatchNorm2d(ngf*2),\n",
    "          nn.ReLU(True),\n",
    "  \n",
    "          nn.ConvTranspose2d(ngf*2, ngf, 4, 2, 1, bias=False),\n",
    "          nn.BatchNorm2d(ngf),\n",
    "          nn.ReLU(True),\n",
    "  \n",
    "          nn.ConvTranspose2d(ngf, nc, 4, 2, 1, bias=False),\n",
    "          nn.Tanh()\n",
    "      )\n",
    "  \n",
    "    def forward(self, input):\n",
    "        output = self.network(input)\n",
    "        return output\n",
    "\n",
    "class discriminator(nn.Module):\n",
    "    def __init__(self, nc, ndf):\n",
    "        super(discriminator, self).__init__()\n",
    "        self.network = nn.Sequential(\n",
    "                \n",
    "                nn.Conv2d(nc, ndf, 4, 2, 1, bias=False),\n",
    "                nn.LeakyReLU(0.2, inplace=True),\n",
    "                \n",
    "                nn.Conv2d(ndf, ndf * 2, 4, 2, 1, bias=False),\n",
    "                nn.BatchNorm2d(ndf * 2),\n",
    "                nn.LeakyReLU(0.2, inplace=True),\n",
    "                \n",
    "                nn.Conv2d(ndf * 2, ndf * 4, 3, 2, 1, bias=False),\n",
    "                nn.BatchNorm2d(ndf * 4),\n",
    "                nn.LeakyReLU(0.2, inplace=True),\n",
    "                \n",
    "                nn.Conv2d(ndf * 4, 1, 4, 1, 0, bias=False),\n",
    "                nn.Sigmoid()\n",
    "            )\n",
    "    def forward(self, input):\n",
    "        output = self.network(input)\n",
    "        return output.view(-1, 1).squeeze(1)"
   ]
  },
  {
   "cell_type": "markdown",
   "id": "cognitive-cancer",
   "metadata": {},
   "source": [
    "## Model training\n",
    "* lr : 학습률(learning rate)\n",
    "* train_epoch : 반복 횟수"
   ]
  },
  {
   "cell_type": "code",
   "execution_count": 8,
   "id": "handy-buffer",
   "metadata": {
    "execution": {
     "iopub.execute_input": "2021-08-22T08:23:08.261457Z",
     "iopub.status.busy": "2021-08-22T08:23:08.261335Z",
     "iopub.status.idle": "2021-08-22T08:23:08.271004Z",
     "shell.execute_reply": "2021-08-22T08:23:08.270472Z",
     "shell.execute_reply.started": "2021-08-22T08:23:08.261442Z"
    },
    "tags": []
   },
   "outputs": [],
   "source": [
    "lr = 0.0002\n",
    "train_epoch = 50"
   ]
  },
  {
   "cell_type": "code",
   "execution_count": 9,
   "id": "extraordinary-watts",
   "metadata": {
    "execution": {
     "iopub.execute_input": "2021-08-22T08:23:08.271929Z",
     "iopub.status.busy": "2021-08-22T08:23:08.271765Z",
     "iopub.status.idle": "2021-08-22T08:23:13.107221Z",
     "shell.execute_reply": "2021-08-22T08:23:13.105770Z",
     "shell.execute_reply.started": "2021-08-22T08:23:08.271910Z"
    },
    "tags": []
   },
   "outputs": [],
   "source": [
    "G = generator(nc = 1, nz = 100, ngf = 32).to(device)\n",
    "D = discriminator(nc= 1, ndf=32).to(device)\n",
    "\n",
    "criterion = nn.BCELoss()\n",
    "\n",
    "g_optimizer = optim.Adam(G.parameters(), lr=lr)\n",
    "d_optimizer = optim.Adam(D.parameters(), lr=lr)"
   ]
  },
  {
   "cell_type": "code",
   "execution_count": 10,
   "id": "indonesian-voice",
   "metadata": {
    "execution": {
     "iopub.execute_input": "2021-08-22T08:23:13.109267Z",
     "iopub.status.busy": "2021-08-22T08:23:13.109089Z",
     "iopub.status.idle": "2021-08-22T08:23:13.116397Z",
     "shell.execute_reply": "2021-08-22T08:23:13.115857Z",
     "shell.execute_reply.started": "2021-08-22T08:23:13.109243Z"
    },
    "tags": []
   },
   "outputs": [
    {
     "data": {
      "text/plain": [
       "torch.Size([25, 100, 1, 1])"
      ]
     },
     "execution_count": 10,
     "metadata": {},
     "output_type": "execute_result"
    }
   ],
   "source": [
    "if not os.path.exists('./model'):\n",
    "    os.makedirs('./model')\n",
    "if not os.path.exists('./result/mnist_dcgan'):\n",
    "    os.makedirs('./result/mnist_dcgan')\n",
    "\n",
    "# fixed noise for training checks\n",
    "fixed_z = torch.randn(5 * 5, 100,1,1)    \n",
    "with torch.no_grad():\n",
    "    fixed_z = Variable(fixed_z.cuda())\n",
    "fixed_z.shape"
   ]
  },
  {
   "cell_type": "code",
   "execution_count": 11,
   "id": "painted-commitment",
   "metadata": {
    "execution": {
     "iopub.execute_input": "2021-08-22T08:23:13.117198Z",
     "iopub.status.busy": "2021-08-22T08:23:13.117069Z",
     "iopub.status.idle": "2021-08-22T08:23:13.127379Z",
     "shell.execute_reply": "2021-08-22T08:23:13.126822Z",
     "shell.execute_reply.started": "2021-08-22T08:23:13.117183Z"
    },
    "tags": []
   },
   "outputs": [],
   "source": [
    "def show_training_proc(num_epoch, img_size, nc = 1, show = False, save = False, path = 'result.png', isFix=False):\n",
    "    z = torch.randn(5*5, 100, 1, 1)\n",
    "    with torch.no_grad():\n",
    "        z = Variable(z.cuda())\n",
    "\n",
    "    G.eval()\n",
    "    if isFix:\n",
    "        test_images = G(fixed_z)\n",
    "    else:\n",
    "        test_images = G(z)\n",
    "    G.train()\n",
    "    \n",
    "    if nc ==1:\n",
    "        plt.imshow(torchvision.utils.make_grid(test_images.data.view(-1,img_size, img_size).unsqueeze(1).detach().cpu(), normalize = True, nrow = 5).permute(1,2,0), cmap='gray')\n",
    "    else:\n",
    "        plt.imshow(torchvision.utils.make_grid(test_images.data.view(-1,nc, img_size, img_size).detach().cpu(), normalize = True, nrow = 5).permute(1,2,0), cmap='gray')\n",
    "       \n",
    "    label = 'Epoch {0}'.format(num_epoch)\n",
    "    plt.title(label)\n",
    "    plt.savefig(path)\n",
    "\n",
    "    if show:\n",
    "        plt.show()\n",
    "    else:\n",
    "        plt.close()"
   ]
  },
  {
   "cell_type": "code",
   "execution_count": 12,
   "id": "stone-bhutan",
   "metadata": {
    "execution": {
     "iopub.execute_input": "2021-08-22T08:23:13.128276Z",
     "iopub.status.busy": "2021-08-22T08:23:13.128116Z",
     "iopub.status.idle": "2021-08-22T08:38:48.114077Z",
     "shell.execute_reply": "2021-08-22T08:38:48.113212Z",
     "shell.execute_reply.started": "2021-08-22T08:23:13.128257Z"
    },
    "tags": []
   },
   "outputs": [
    {
     "name": "stdout",
     "output_type": "stream",
     "text": [
      "[1/50]: loss_d: 0.049, loss_g: 5.474\n",
      "[2/50]: loss_d: 0.012, loss_g: 7.114\n",
      "[3/50]: loss_d: 0.011, loss_g: 7.624\n",
      "[4/50]: loss_d: 0.022, loss_g: 7.323\n",
      "[5/50]: loss_d: 0.019, loss_g: 7.179\n",
      "[6/50]: loss_d: 0.050, loss_g: 6.273\n",
      "[7/50]: loss_d: 0.053, loss_g: 5.968\n",
      "[8/50]: loss_d: 0.146, loss_g: 5.080\n",
      "[9/50]: loss_d: 0.220, loss_g: 3.777\n",
      "[10/50]: loss_d: 0.289, loss_g: 3.483\n",
      "[11/50]: loss_d: 0.340, loss_g: 3.076\n",
      "[12/50]: loss_d: 0.389, loss_g: 2.795\n",
      "[13/50]: loss_d: 0.383, loss_g: 2.618\n",
      "[14/50]: loss_d: 0.422, loss_g: 2.683\n",
      "[15/50]: loss_d: 0.428, loss_g: 2.557\n",
      "[16/50]: loss_d: 0.430, loss_g: 2.517\n",
      "[17/50]: loss_d: 0.443, loss_g: 2.466\n",
      "[18/50]: loss_d: 0.451, loss_g: 2.454\n",
      "[19/50]: loss_d: 0.446, loss_g: 2.436\n",
      "[20/50]: loss_d: 0.419, loss_g: 2.404\n",
      "[21/50]: loss_d: 0.431, loss_g: 2.482\n",
      "[22/50]: loss_d: 0.459, loss_g: 2.502\n",
      "[23/50]: loss_d: 0.432, loss_g: 2.402\n",
      "[24/50]: loss_d: 0.416, loss_g: 2.363\n",
      "[25/50]: loss_d: 0.428, loss_g: 2.412\n",
      "[26/50]: loss_d: 0.438, loss_g: 2.502\n",
      "[27/50]: loss_d: 0.420, loss_g: 2.447\n",
      "[28/50]: loss_d: 0.464, loss_g: 2.439\n",
      "[29/50]: loss_d: 0.420, loss_g: 2.497\n",
      "[30/50]: loss_d: 0.396, loss_g: 2.475\n",
      "[31/50]: loss_d: 0.404, loss_g: 2.470\n",
      "[32/50]: loss_d: 0.409, loss_g: 2.506\n",
      "[33/50]: loss_d: 0.419, loss_g: 2.495\n",
      "[34/50]: loss_d: 0.414, loss_g: 2.500\n",
      "[35/50]: loss_d: 0.401, loss_g: 2.503\n",
      "[36/50]: loss_d: 0.394, loss_g: 2.537\n",
      "[37/50]: loss_d: 0.429, loss_g: 2.576\n",
      "[38/50]: loss_d: 0.391, loss_g: 2.605\n",
      "[39/50]: loss_d: 0.406, loss_g: 2.665\n",
      "[40/50]: loss_d: 0.404, loss_g: 2.658\n",
      "[41/50]: loss_d: 0.404, loss_g: 2.581\n",
      "[42/50]: loss_d: 0.416, loss_g: 2.655\n",
      "[43/50]: loss_d: 0.375, loss_g: 2.558\n",
      "[44/50]: loss_d: 0.369, loss_g: 2.677\n",
      "[45/50]: loss_d: 0.381, loss_g: 2.708\n",
      "[46/50]: loss_d: 0.385, loss_g: 2.712\n",
      "[47/50]: loss_d: 0.340, loss_g: 2.671\n",
      "[48/50]: loss_d: 0.416, loss_g: 2.692\n",
      "[49/50]: loss_d: 0.348, loss_g: 2.673\n",
      "[50/50]: loss_d: 0.332, loss_g: 2.730\n"
     ]
    }
   ],
   "source": [
    "train_hist = {}\n",
    "train_hist['D_losses'] = []\n",
    "train_hist['G_losses'] = []\n",
    "\n",
    "for epoch in range(train_epoch):\n",
    "    D_losses = []\n",
    "    G_losses = []\n",
    "    for x, _ in train_loader_mnist:\n",
    "        # train discriminator D\n",
    "        D.zero_grad()\n",
    "#         x = x.view(-1, 28 * 28)\n",
    "        mini_batch = x.size()[0]\n",
    "\n",
    "        y_real = torch.ones(mini_batch)\n",
    "        y_fake = torch.zeros(mini_batch)\n",
    "\n",
    "        x, y_real, y_fake = Variable(x.cuda()), Variable(y_real.cuda()), Variable(y_fake.cuda())\n",
    "        \n",
    "        D_x = D(x)\n",
    "        D_real_loss = criterion(D_x, y_real)\n",
    "        D_real_score = D_x\n",
    "\n",
    "        z = torch.randn(mini_batch, 100, 1,1)\n",
    "        z = Variable(z.cuda())\n",
    "        G_z = G(z)\n",
    "\n",
    "        D_gz = D(G_z)\n",
    "        D_fake_loss = criterion(D_gz, y_fake)\n",
    "        D_fake_score = D_gz\n",
    "\n",
    "        D_train_loss = D_real_loss + D_fake_loss\n",
    "\n",
    "        D_train_loss.backward()\n",
    "        d_optimizer.step()\n",
    "\n",
    "        D_losses.append(D_train_loss.item())\n",
    "\n",
    "        # train generator G\n",
    "        G.zero_grad()\n",
    "\n",
    "        z = torch.randn(mini_batch, 100, 1,1)\n",
    "        y = torch.ones(mini_batch)\n",
    "\n",
    "        z, y = Variable(z.cuda()), Variable(y.cuda())\n",
    "        G_z = G(z)\n",
    "        D_gz = D(G_z)\n",
    "        G_train_loss = criterion(D_gz, y)\n",
    "        G_train_loss.backward()\n",
    "        g_optimizer.step()\n",
    "\n",
    "        G_losses.append(G_train_loss.item())\n",
    "\n",
    "    print('[%d/%d]: loss_d: %.3f, loss_g: %.3f' % ((epoch + 1), train_epoch, torch.mean(torch.FloatTensor(D_losses)), torch.mean(torch.FloatTensor(G_losses))))\n",
    "          \n",
    "    train_hist['D_losses'].append(torch.mean(torch.FloatTensor(D_losses)))\n",
    "    train_hist['G_losses'].append(torch.mean(torch.FloatTensor(G_losses)))\n",
    "    \n",
    "    show_training_proc((epoch+1), img_size = 28, save=True, path='./result/mnist_dcgan/mnist_DCGAN_result_{0:03d}.png'.format(epoch+1), isFix=False)\n",
    "    show_training_proc((epoch+1), img_size = 28, save=True, path='./result/mnist_dcgan/mnist_DCGAN_result_fixed_{0:03d}.png'.format(epoch+1), isFix=True)\n",
    "          \n",
    "torch.save(G.state_dict(), './model/G_DCGAN_mnist.ckpt')\n",
    "torch.save(D.state_dict(), './model/D_DCGAN_mnist.ckpt')"
   ]
  },
  {
   "cell_type": "code",
   "execution_count": 13,
   "id": "color-orientation",
   "metadata": {
    "execution": {
     "iopub.execute_input": "2021-08-22T08:38:48.115245Z",
     "iopub.status.busy": "2021-08-22T08:38:48.115097Z",
     "iopub.status.idle": "2021-08-22T08:38:48.240322Z",
     "shell.execute_reply": "2021-08-22T08:38:48.239513Z",
     "shell.execute_reply.started": "2021-08-22T08:38:48.115227Z"
    },
    "tags": []
   },
   "outputs": [
    {
     "data": {
      "image/png": "[encoded data removed]",
      "text/plain": [
       "<Figure size 864x288 with 1 Axes>"
      ]
     },
     "metadata": {
      "needs_background": "light"
     },
     "output_type": "display_data"
    }
   ],
   "source": [
    "x = range(len(train_hist['D_losses']))\n",
    "\n",
    "y1 = train_hist['D_losses']\n",
    "y2 = train_hist['G_losses']\n",
    "plt.figure(figsize= (12,4))\n",
    "plt.plot(x, y1, label='D_loss')\n",
    "plt.plot(x, y2, label='G_loss')\n",
    "\n",
    "plt.xlabel('Epoch')\n",
    "plt.ylabel('Loss')\n",
    "\n",
    "plt.legend(loc=4)\n",
    "plt.grid(True)\n",
    "plt.tight_layout()\n",
    "plt.show()"
   ]
  }
 ],
 "metadata": {
  "kernelspec": {
   "display_name": "Python 3",
   "language": "python",
   "name": "python3"
  },
  "language_info": {
   "codemirror_mode": {
    "name": "ipython",
    "version": 3
   },
   "file_extension": ".py",
   "mimetype": "text/x-python",
   "name": "python",
   "nbconvert_exporter": "python",
   "pygments_lexer": "ipython3",
   "version": "3.7.3"
  },
  "widgets": {
   "application/vnd.jupyter.widget-state+json": {
    "state": {},
    "version_major": 2,
    "version_minor": 0
   }
  }
 },
 "nbformat": 4,
 "nbformat_minor": 5
}
