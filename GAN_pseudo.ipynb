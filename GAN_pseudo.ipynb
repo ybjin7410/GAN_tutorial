{
 "cells": [
  {
   "cell_type": "markdown",
   "id": "defined-producer",
   "metadata": {},
   "source": [
    "## pseudo code"
   ]
  },
  {
   "cell_type": "code",
   "execution_count": null,
   "id": "judicial-arnold",
   "metadata": {},
   "outputs": [],
   "source": [
    "import torch\n",
    "import torch.nn as nn\n",
    "\n",
    "hidden_size = 256\n",
    "z_size = 100\n",
    "\n",
    "#Discriminator (input -> 28*28, output -> 1)\n",
    "D = nn.Sequential(\n",
    "      nn.Linear(28*28, hidden_size),\n",
    "      nn.ReLU(),\n",
    "      nn.Linear(hidden_size, 1),\n",
    "      nn.Sigmoid())\n",
    "\n",
    "#Generator (input -> 100, output -> 28*28)\n",
    "G = nn.Sequential(\n",
    "      nn.Linear(z_size, hidden_size),\n",
    "      nn.ReLU(),\n",
    "      nn.Linear(hidden_size, 28*28),\n",
    "      nn.Tanh())\n",
    "\n",
    "criterion = nn.BECLoss()\n",
    "\n",
    "d_optimizer = torch.optim.Adam(D.parameters(), lr = 0.001)\n",
    "g_optimizer = torch.optim.Adam(G.parameters(), lr = 0.001)\n",
    "\n",
    "## Assume x be real images  (batch_size, H*W)\n",
    "## Assume z be random noise from Gaussian or uniform (batch_size, z_size)\n",
    "\n",
    "total_epoch = 100\n",
    "for epoch in total_epoch:\n",
    "    #train D\n",
    "    loss = criterion(D(x),1) + criterion(D(G(z)), 0)\n",
    "    loss.backward()\n",
    "    d_optimizer.step()\n",
    "    \n",
    "    #train G \n",
    "    loss = criterion(D(G(z)), 1)\n",
    "    loss.backward()\n",
    "    g_optimizer.step()"
   ]
  }
 ],
 "metadata": {
  "kernelspec": {
   "display_name": "Python 3",
   "language": "python",
   "name": "python3"
  },
  "language_info": {
   "codemirror_mode": {
    "name": "ipython",
    "version": 3
   },
   "file_extension": ".py",
   "mimetype": "text/x-python",
   "name": "python",
   "nbconvert_exporter": "python",
   "pygments_lexer": "ipython3",
   "version": "3.7.3"
  },
  "widgets": {
   "application/vnd.jupyter.widget-state+json": {
    "state": {},
    "version_major": 2,
    "version_minor": 0
   }
  }
 },
 "nbformat": 4,
 "nbformat_minor": 5
}
